{
 "cells": [
  {
   "cell_type": "code",
   "execution_count": 1,
   "id": "6acf34c6",
   "metadata": {},
   "outputs": [
    {
     "name": "stdout",
     "output_type": "stream",
     "text": [
      "14.0\n"
     ]
    }
   ],
   "source": [
    "print(4*3.75-1)\n",
    "# if there are multiple datatypes in an operation than the result will  be in the float datatype."
   ]
  },
  {
   "cell_type": "code",
   "execution_count": 41,
   "id": "ebe9db6a",
   "metadata": {},
   "outputs": [
    {
     "name": "stdout",
     "output_type": "stream",
     "text": [
      "1\n"
     ]
    }
   ],
   "source": [
    "print(5//3)\n",
    "# the above code shows the floor division it is also used to get the integer part of the result gained from the division of the \n",
    "# 2 numbers"
   ]
  },
  {
   "cell_type": "markdown",
   "id": "eee0ec1f",
   "metadata": {},
   "source": [
    "## Strings are immutable"
   ]
  },
  {
   "cell_type": "code",
   "execution_count": 3,
   "id": "e8ff9f29",
   "metadata": {},
   "outputs": [
    {
     "ename": "TypeError",
     "evalue": "'str' object does not support item assignment",
     "output_type": "error",
     "traceback": [
      "\u001b[1;31m---------------------------------------------------------------------------\u001b[0m",
      "\u001b[1;31mTypeError\u001b[0m                                 Traceback (most recent call last)",
      "Input \u001b[1;32mIn [3]\u001b[0m, in \u001b[0;36m<cell line: 2>\u001b[1;34m()\u001b[0m\n\u001b[0;32m      1\u001b[0m word\u001b[38;5;241m=\u001b[39m\u001b[38;5;124m'\u001b[39m\u001b[38;5;124mPython\u001b[39m\u001b[38;5;124m'\u001b[39m\n\u001b[1;32m----> 2\u001b[0m \u001b[43mword\u001b[49m\u001b[43m[\u001b[49m\u001b[38;5;241;43m0\u001b[39;49m\u001b[43m]\u001b[49m\u001b[38;5;241m=\u001b[39m\u001b[38;5;124m'\u001b[39m\u001b[38;5;124mj\u001b[39m\u001b[38;5;124m'\u001b[39m\n",
      "\u001b[1;31mTypeError\u001b[0m: 'str' object does not support item assignment"
     ]
    }
   ],
   "source": [
    "word='Python'\n",
    "word[0]='j'\n",
    "# the code shows that strings are immutable they can not be changed like lists"
   ]
  },
  {
   "cell_type": "code",
   "execution_count": 4,
   "id": "43fe42c3",
   "metadata": {},
   "outputs": [
    {
     "data": {
      "text/plain": [
       "'jython'"
      ]
     },
     "execution_count": 4,
     "metadata": {},
     "output_type": "execute_result"
    }
   ],
   "source": [
    "# if you want to change it anyways do the following method\n",
    "new_word='j'+word[1:]\n",
    "new_word"
   ]
  },
  {
   "cell_type": "markdown",
   "id": "1efb008c",
   "metadata": {},
   "source": [
    "## Multiple assignment"
   ]
  },
  {
   "cell_type": "code",
   "execution_count": 6,
   "id": "bb66e714",
   "metadata": {},
   "outputs": [
    {
     "name": "stdout",
     "output_type": "stream",
     "text": [
      "0  \n",
      "1  \n",
      "1  \n",
      "2  \n",
      "3  \n",
      "5  \n",
      "8  \n"
     ]
    }
   ],
   "source": [
    "#fibonaci series\n",
    "a,b=0,1\n",
    "while a<10:\n",
    "    print(a,\" \")\n",
    "    a,b=b,a+b\n",
    "# The main purpose of the above code is to show the multiple assignment to the variables 'a' and 'b'\n",
    "# they simultaneously get the values 0 and 1 furthermore a while loop is used which will iterate untill\n",
    "# a is less than 10 (while loop always iterates when the condition provided is true) and then it prints \n",
    "# the fibbonaci series in which the third number is the sum of the previous two numbers"
   ]
  },
  {
   "cell_type": "code",
   "execution_count": 9,
   "id": "2399cfe0",
   "metadata": {},
   "outputs": [
    {
     "name": "stdout",
     "output_type": "stream",
     "text": [
      "0 1 1 2 3 5 8 "
     ]
    }
   ],
   "source": [
    "#fibonaci series\n",
    "a,b=0,1\n",
    "while a<10:\n",
    "    print(a,end=' ')\n",
    "    a,b=b,a+b\n",
    "#The argument end is used to avoid the newline and end the output with the string value of end variable"
   ]
  },
  {
   "cell_type": "markdown",
   "id": "88da285d",
   "metadata": {},
   "source": [
    "## Higher precedence"
   ]
  },
  {
   "cell_type": "code",
   "execution_count": 13,
   "id": "f39b837e",
   "metadata": {},
   "outputs": [
    {
     "name": "stdout",
     "output_type": "stream",
     "text": [
      "-9\n",
      "9\n"
     ]
    }
   ],
   "source": [
    "print(-3**2)\n",
    "# since ** has higher precedence than - so it will be calculated as -(3**2)\n",
    "# to avoid it you can  write it as\n",
    "print((-3)**2)"
   ]
  },
  {
   "cell_type": "markdown",
   "id": "1d64a92e",
   "metadata": {},
   "source": [
    "## Modifying a dictionary"
   ]
  },
  {
   "cell_type": "code",
   "execution_count": 29,
   "id": "5914fb1d",
   "metadata": {},
   "outputs": [
    {
     "name": "stdout",
     "output_type": "stream",
     "text": [
      "{'Hans': 'active', '景太郎': 'active'}\n",
      "{'Hans': 'active', '景太郎': 'active'}\n"
     ]
    }
   ],
   "source": [
    "# Create a sample collection\n",
    "users = {'Hans': 'active', 'Éléonore': 'inactive', '景太郎': 'active'}\n",
    "\n",
    "# making copy using the list  method\n",
    "for user,status in list(users.items()):\n",
    "    if status=='inactive':\n",
    "        del users[user]\n",
    "\n",
    "# Strategy:  Create a new collection\n",
    "active_users = {}\n",
    "for user,status in list(users.items()):\n",
    "    if status=='active':\n",
    "        active_users[user]=status\n",
    "print(users)\n",
    "print(active_users)"
   ]
  },
  {
   "cell_type": "code",
   "execution_count": 37,
   "id": "63b06cc1",
   "metadata": {},
   "outputs": [
    {
     "name": "stdout",
     "output_type": "stream",
     "text": [
      "{'Hans': 'active', '景太郎': 'active'}\n",
      "{'Hans': 'active', '景太郎': 'active'}\n"
     ]
    }
   ],
   "source": [
    "# 2 method to do the above code\n",
    "# make a  copy using copy function\n",
    "for user,status in users.copy().items():\n",
    "    if status=='inactive':\n",
    "        del users[user]\n",
    "        \n",
    "active_users = {}\n",
    "for user,status in users.items():\n",
    "    if status=='active':\n",
    "        active_users[user]=status\n",
    "print(users)\n",
    "print(active_users)\n",
    "\n",
    "# The code snippet is a solution for an error:dictionary changed size during iteration, in python while iterating through a diction\n",
    "# -ry you can not add or delete something in that original dictionary for that purpose if you want to make changes in the diction\n",
    "# -ry you have to create a copy for it copy can be made by two methods .copy() and the list() method the former method creates \n",
    "# a copy of the dictionary items here the dictionary is having the copy() method if you write the .copy() after the items it will give\n",
    "# an AttributeError: 'dict_items' object has no attribute 'copy' the later method creates a list of the items of dictionary and \n",
    "# then iterates over it.In the remaining code if the status which is the value of the respective key(user) in the dictionary matches\n",
    "# the value 'active' then the respective key and its value is deleted from the dictionary and later on in the other code snippet\n",
    "# it iterates on the items of the dictionary users and if the status is equal to 'active' it adds the key and its value to the \n",
    "# dictionary active_users\n",
    "                                                                            "
   ]
  },
  {
   "cell_type": "code",
   "execution_count": 38,
   "id": "f5fdc003",
   "metadata": {},
   "outputs": [
    {
     "data": {
      "text/plain": [
       "dict_items([('Hans', 'active'), ('Éléonore', 'inactive'), ('景太郎', 'active')])"
      ]
     },
     "execution_count": 38,
     "metadata": {},
     "output_type": "execute_result"
    }
   ],
   "source": [
    "users = {'Hans': 'active', 'Éléonore': 'inactive', '景太郎': 'active'}\n",
    "sal=users.copy().items()\n",
    "sal"
   ]
  },
  {
   "cell_type": "code",
   "execution_count": 39,
   "id": "07bccc71",
   "metadata": {},
   "outputs": [
    {
     "data": {
      "text/plain": [
       "[('Hans', 'active'), ('Éléonore', 'inactive'), ('景太郎', 'active')]"
      ]
     },
     "execution_count": 39,
     "metadata": {},
     "output_type": "execute_result"
    }
   ],
   "source": [
    "users = {'Hans': 'active', 'Éléonore': 'inactive', '景太郎': 'active'}\n",
    "sal=list(users.items())\n",
    "sal"
   ]
  },
  {
   "cell_type": "markdown",
   "id": "5fddbb23",
   "metadata": {},
   "source": [
    "## Break and Continue Statements, and else clauses on loops"
   ]
  },
  {
   "cell_type": "code",
   "execution_count": 48,
   "id": "ce04e72a",
   "metadata": {},
   "outputs": [
    {
     "name": "stdout",
     "output_type": "stream",
     "text": [
      "2 is a prime number\n",
      "3 is a prime number\n",
      "4 equals 2 x 2\n",
      "5 is a prime number\n",
      "6 equals 2 x 3\n",
      "7 is a prime number\n",
      "8 equals 2 x 4\n",
      "9 equals 3 x 3\n"
     ]
    }
   ],
   "source": [
    "for n in range(2,10):\n",
    "    for x in range(2,n):\n",
    "        if n%x==0:\n",
    "            print(n,'equals', x,'x',n//x)\n",
    "            break\n",
    "    else:\n",
    "        print(n,'is a prime number')\n",
    "#The else statements with for loop is executed when the loop terminates through exhaustion of the \n",
    "# iterable and when the condition is false for while loop and is not executed when the loop is terminat\n",
    "# -ed with a break statement.The code above finds a prime number from range 2 to 10.In the first loop\n",
    "# n is the iterable through the range 2 to 10  similarly in the second loop x is the iterable through\n",
    "# the range 2 to n here  we take the range 2 to n for the purpose that when we find prime numbers\n",
    "# we do not take division by 1 of the number into consideration, so in the second loop we divide the \n",
    "# number 'n' by 'x' starting from 2 to n and as we find its first factor we break the loop.If the factor\n",
    "# is not found then the else statement is executed.NOTE that the  else statement is with the for\n",
    "# loop not with the if statement."
   ]
  },
  {
   "cell_type": "code",
   "execution_count": 50,
   "id": "d365f48b",
   "metadata": {},
   "outputs": [
    {
     "name": "stdout",
     "output_type": "stream",
     "text": [
      "Found an even number 2\n",
      "Found an odd number 3\n",
      "Found an even number 4\n",
      "Found an odd number 5\n",
      "Found an even number 6\n",
      "Found an odd number 7\n",
      "Found an even number 8\n",
      "Found an odd number 9\n"
     ]
    }
   ],
   "source": [
    "for num in range(2, 10):\n",
    "    if num % 2 == 0:\n",
    "        print(\"Found an even number\", num)\n",
    "        continue\n",
    "    print(\"Found an odd number\", num)\n",
    "# The above code finds an even number with the help of continue statements the continue statement\n",
    "# is used as an alternate for the else statement here.The code finds even and odd numbers within the \n",
    "# range 2 to 10 here 'num' is the iterable for the loop later on in the  if the reminder of \n",
    "# num modulo 2 equals to zero the if statement is executed if not then it continues and executes the \n",
    "# remaining code"
   ]
  },
  {
   "cell_type": "markdown",
   "id": "82554fbb",
   "metadata": {},
   "source": [
    "## Pass statements"
   ]
  },
  {
   "cell_type": "code",
   "execution_count": 51,
   "id": "c9d0453a",
   "metadata": {},
   "outputs": [],
   "source": [
    "# The pass statements are used when they statements is required syntactically but the promgram does \n",
    "# not perform any action\n",
    "def func():\n",
    "    pass\n",
    "# The advantage of a pass statement is that you can have a reminder to write the code later and by \n",
    "# doing it the code remains valid and does not throw an error"
   ]
  },
  {
   "cell_type": "markdown",
   "id": "0333ad26",
   "metadata": {},
   "source": [
    "## Match Statements"
   ]
  },
  {
   "cell_type": "code",
   "execution_count": 70,
   "id": "9c141a2f",
   "metadata": {},
   "outputs": [
    {
     "data": {
      "text/plain": [
       "'There is something wrong with the internet'"
      ]
     },
     "execution_count": 70,
     "metadata": {},
     "output_type": "execute_result"
    }
   ],
   "source": [
    "def http_error(status):\n",
    "    match status:\n",
    "        case 400:\n",
    "            return 'Bad request'\n",
    "        case 404:\n",
    "            return 'Page not found'\n",
    "        case 418:\n",
    "            return \"I'm a teapot\"\n",
    "        case _:\n",
    "            return \"There is something wrong with the internet\"\n",
    "http_error()\n",
    "\n",
    "#Match statements in python are just the same as Switch statements in C,C++ or any other language\n",
    "# the match statement takes a value for an expression (as status in the above code) and then compares it\n",
    "# with the values of the case statements so the case block is executed accordingly.Here the '_' is used \n",
    "# as replacement for the default statement  in other languages it never fails to match with any  value \n",
    "#for the expression and its block is executed when the expressions value does not match the above \n",
    "# case statement values."
   ]
  },
  {
   "cell_type": "code",
   "execution_count": 77,
   "id": "2c2b8f64",
   "metadata": {},
   "outputs": [
    {
     "name": "stdout",
     "output_type": "stream",
     "text": [
      "Not allowed\n",
      "None\n"
     ]
    }
   ],
   "source": [
    "#You can combine several literals in a single pattern as well\n",
    "def http_error(status):\n",
    "    match status:\n",
    "        case 400| 404 |410:\n",
    "            return 'Not allowed'\n",
    "\n",
    "print(http_error(400))  \n",
    "print(http_error(454))\n",
    "# Here if you enter any value among 400,404 and 410 it will return the result 'Not allowed'.If no case\n",
    "# matches it will give None output(none of the branches is executed)"
   ]
  },
  {
   "cell_type": "code",
   "execution_count": 95,
   "id": "09951814",
   "metadata": {},
   "outputs": [
    {
     "name": "stdout",
     "output_type": "stream",
     "text": [
      "X = 2 Y = 3\n"
     ]
    }
   ],
   "source": [
    "point=(2,3)\n",
    "match point:\n",
    "    case(0,0):\n",
    "        print('Origin')\n",
    "    case(0,y):\n",
    "        print('Y =',y)\n",
    "    case(x,0):\n",
    "        print('X =',x)\n",
    "    case(x,y):\n",
    "        print('X =',x,'Y =',y)\n",
    "    case _:\n",
    "        raise ValueError('Not a point')\n",
    "# The above code is an example of the unpacking assignment.Here in the first case statement there are\n",
    "#  two literals and the next two statements there are both literal and a variable the variable takes\n",
    "# the value from point tuple.In the second last statement there are two variables the elements of the \n",
    "# point tuple are unpacked 2 is assigned to x and 3 is assigned to y.Code raises a Value error with\n",
    "#  a message 'Not a point 'if it experiences a value which can not be defined as a point in the code."
   ]
  },
  {
   "cell_type": "markdown",
   "id": "d8767a03",
   "metadata": {},
   "source": [
    "## Functions"
   ]
  },
  {
   "cell_type": "code",
   "execution_count": 98,
   "id": "ef9d4f16",
   "metadata": {},
   "outputs": [
    {
     "data": {
      "text/plain": [
       "[0, 1, 1, 2, 3, 5, 8]"
      ]
     },
     "execution_count": 98,
     "metadata": {},
     "output_type": "execute_result"
    }
   ],
   "source": [
    "def fib(n):\n",
    "    a,b=0,1\n",
    "    result=[]\n",
    "    while a<n:\n",
    "        result.append(a)\n",
    "        a,b=b,a+b\n",
    "    return result\n",
    "fib(10)\n",
    "# The code snippet is the function which calculate the fibbonaci series for the number which is given\n",
    "# to it as an argument.Furthermore an empty list is defined to which each number of the series is append\n",
    "# -ed in the loop by calling the append() method of the list object the loop iterates till the number \n",
    "# 'a' is smaller than the number 'n' when the loop is terminated the series is returned in the form of\n",
    "# list."
   ]
  },
  {
   "cell_type": "markdown",
   "id": "bd27430f",
   "metadata": {},
   "source": [
    "### Default Argument Values"
   ]
  },
  {
   "cell_type": "code",
   "execution_count": null,
   "id": "89789a18",
   "metadata": {},
   "outputs": [],
   "source": [
    "def ask_ok(prompt,tries=4,reminder='Please try again!'):\n",
    "   \n",
    "    while True:\n",
    "        ok=input(prompt)\n",
    "        if ok in ('y','yes'):\n",
    "            return True\n",
    "        elif ok in ('n','no'):\n",
    "            return False\n",
    "        tries=tries-1\n",
    "        if tries<0:\n",
    "            raise ValueError('Out of tries')\n",
    "        print(reminder)\n",
    "#The function can be called in several ways\n",
    "# ask_ok('Do you really want to quit?')\n",
    "# ask_ok('OK to overwrite the file?', 2)\n",
    "ask_ok('OK to overwrite the file?', 2, 'Come on, only yes or no!')\n",
    "# The code shows the behaviour of default values passed to a function. A function can be called with\n",
    "# less arguments then it is defined  if you specify the default values for the arguments.Here this code\n",
    "# also clears the concept of 'in' as well which checks if the given value is present in the sequence or \n",
    "# not.The value of tries '4' and reminder 'Please try again!' are specified as default values.The code\n",
    "# asks for the prompt and returns True or False according to the prompt value and for incorrect value\n",
    "# of the prompt the code asks again until you are out of tries.When you get out of tries it raises a\n",
    "# Value error with a message \"Out of tries\"."
   ]
  },
  {
   "cell_type": "code",
   "execution_count": 110,
   "id": "5390a721",
   "metadata": {},
   "outputs": [
    {
     "name": "stdout",
     "output_type": "stream",
     "text": [
      "[1]\n",
      "[1, 2]\n",
      "[1, 2, 3]\n"
     ]
    }
   ],
   "source": [
    "#IMPORTANT:- The default value is evaluted only once the behaviour of the default value gets change\n",
    "# if it is a mutable object\n",
    "def func(a,l=[]):\n",
    "    l.append(a)\n",
    "    return l\n",
    "print(func(1))\n",
    "print(func(2))\n",
    "print(func(3))\n",
    "#The code explains the change behaviour when the default value of an argument is mutable here initially\n",
    "# the value of the list 'l' is empty when it is called once the value of 'a' is appended.so whenever it\n",
    "# is called again the list 'l' will be having the value of a which was appended in it when it was called\n",
    "# the previous time and the size of the list will depend on how many times it is being called."
   ]
  },
  {
   "cell_type": "code",
   "execution_count": 111,
   "id": "41c79530",
   "metadata": {},
   "outputs": [
    {
     "name": "stdout",
     "output_type": "stream",
     "text": [
      "[1]\n",
      "[2]\n",
      "[3]\n"
     ]
    }
   ],
   "source": [
    "def func(a, L=None):\n",
    "    if L is None:\n",
    "        L = []\n",
    "    L.append(a)\n",
    "    return L\n",
    "print(func(1))\n",
    "print(func(2))\n",
    "print(func(3))\n",
    "# Now if you don't want the default value to be shared by subsequent calls you can pass the default\n",
    "# value as None and then simply intialize the list as '[]' empty in the if block whenever the \n",
    "# function is called"
   ]
  },
  {
   "cell_type": "code",
   "execution_count": null,
   "id": "ccc86ef3",
   "metadata": {},
   "outputs": [],
   "source": []
  }
 ],
 "metadata": {
  "kernelspec": {
   "display_name": "Python 3 (ipykernel)",
   "language": "python",
   "name": "python3"
  },
  "language_info": {
   "codemirror_mode": {
    "name": "ipython",
    "version": 3
   },
   "file_extension": ".py",
   "mimetype": "text/x-python",
   "name": "python",
   "nbconvert_exporter": "python",
   "pygments_lexer": "ipython3",
   "version": "3.10.5"
  }
 },
 "nbformat": 4,
 "nbformat_minor": 5
}
