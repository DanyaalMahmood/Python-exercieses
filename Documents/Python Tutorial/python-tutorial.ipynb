{
 "cells": [
  {
   "cell_type": "code",
   "execution_count": 1,
   "id": "6acf34c6",
   "metadata": {},
   "outputs": [
    {
     "name": "stdout",
     "output_type": "stream",
     "text": [
      "14.0\n"
     ]
    }
   ],
   "source": [
    "print(4*3.75-1)\n",
    "# if there are multiple datatypes in an operation than the result will  be in the float datatype."
   ]
  },
  {
   "cell_type": "code",
   "execution_count": 41,
   "id": "ebe9db6a",
   "metadata": {},
   "outputs": [
    {
     "name": "stdout",
     "output_type": "stream",
     "text": [
      "1\n"
     ]
    }
   ],
   "source": [
    "print(5//3)\n",
    "# the above code shows the floor division it is also used to get the integer part of the result gained from the division of the \n",
    "# 2 numbers"
   ]
  },
  {
   "cell_type": "markdown",
   "id": "eee0ec1f",
   "metadata": {},
   "source": [
    "## Strings are immutable"
   ]
  },
  {
   "cell_type": "code",
   "execution_count": 3,
   "id": "e8ff9f29",
   "metadata": {},
   "outputs": [
    {
     "ename": "TypeError",
     "evalue": "'str' object does not support item assignment",
     "output_type": "error",
     "traceback": [
      "\u001b[1;31m---------------------------------------------------------------------------\u001b[0m",
      "\u001b[1;31mTypeError\u001b[0m                                 Traceback (most recent call last)",
      "Input \u001b[1;32mIn [3]\u001b[0m, in \u001b[0;36m<cell line: 2>\u001b[1;34m()\u001b[0m\n\u001b[0;32m      1\u001b[0m word\u001b[38;5;241m=\u001b[39m\u001b[38;5;124m'\u001b[39m\u001b[38;5;124mPython\u001b[39m\u001b[38;5;124m'\u001b[39m\n\u001b[1;32m----> 2\u001b[0m \u001b[43mword\u001b[49m\u001b[43m[\u001b[49m\u001b[38;5;241;43m0\u001b[39;49m\u001b[43m]\u001b[49m\u001b[38;5;241m=\u001b[39m\u001b[38;5;124m'\u001b[39m\u001b[38;5;124mj\u001b[39m\u001b[38;5;124m'\u001b[39m\n",
      "\u001b[1;31mTypeError\u001b[0m: 'str' object does not support item assignment"
     ]
    }
   ],
   "source": [
    "word='Python'\n",
    "word[0]='j'\n",
    "# the code shows that strings are immutable they can not be changed like lists"
   ]
  },
  {
   "cell_type": "code",
   "execution_count": 4,
   "id": "43fe42c3",
   "metadata": {},
   "outputs": [
    {
     "data": {
      "text/plain": [
       "'jython'"
      ]
     },
     "execution_count": 4,
     "metadata": {},
     "output_type": "execute_result"
    }
   ],
   "source": [
    "# if you want to change it anyways do the following method\n",
    "new_word='j'+word[1:]\n",
    "new_word"
   ]
  },
  {
   "cell_type": "markdown",
   "id": "1efb008c",
   "metadata": {},
   "source": [
    "## Multiple assignment"
   ]
  },
  {
   "cell_type": "code",
   "execution_count": 6,
   "id": "bb66e714",
   "metadata": {},
   "outputs": [
    {
     "name": "stdout",
     "output_type": "stream",
     "text": [
      "0  \n",
      "1  \n",
      "1  \n",
      "2  \n",
      "3  \n",
      "5  \n",
      "8  \n"
     ]
    }
   ],
   "source": [
    "#fibonaci series\n",
    "a,b=0,1\n",
    "while a<10:\n",
    "    print(a,\" \")\n",
    "    a,b=b,a+b\n",
    "# The main purpose of the above code is to show the multiple assignment to the variables 'a' and 'b'\n",
    "# they simultaneously get the values 0 and 1 furthermore a while loop is used which will iterate untill\n",
    "# a is less than 10 (while loop always iterates when the condition provided is true) and then it prints \n",
    "# the fibbonaci series in which the third number is the sum of the previous two numbers"
   ]
  },
  {
   "cell_type": "code",
   "execution_count": 9,
   "id": "2399cfe0",
   "metadata": {},
   "outputs": [
    {
     "name": "stdout",
     "output_type": "stream",
     "text": [
      "0 1 1 2 3 5 8 "
     ]
    }
   ],
   "source": [
    "#fibonaci series\n",
    "a,b=0,1\n",
    "while a<10:\n",
    "    print(a,end=' ')\n",
    "    a,b=b,a+b\n",
    "#The argument end is used to avoid the newline and end the output with the string value of end variable"
   ]
  },
  {
   "cell_type": "markdown",
   "id": "88da285d",
   "metadata": {},
   "source": [
    "## Higher precedence"
   ]
  },
  {
   "cell_type": "code",
   "execution_count": 13,
   "id": "f39b837e",
   "metadata": {},
   "outputs": [
    {
     "name": "stdout",
     "output_type": "stream",
     "text": [
      "-9\n",
      "9\n"
     ]
    }
   ],
   "source": [
    "print(-3**2)\n",
    "# since ** has higher precedence than - so it will be calculated as -(3**2)\n",
    "# to avoid it you can  write it as\n",
    "print((-3)**2)"
   ]
  },
  {
   "cell_type": "markdown",
   "id": "1d64a92e",
   "metadata": {},
   "source": [
    "## Modifying a dictionary"
   ]
  },
  {
   "cell_type": "code",
   "execution_count": 29,
   "id": "5914fb1d",
   "metadata": {},
   "outputs": [
    {
     "name": "stdout",
     "output_type": "stream",
     "text": [
      "{'Hans': 'active', '景太郎': 'active'}\n",
      "{'Hans': 'active', '景太郎': 'active'}\n"
     ]
    }
   ],
   "source": [
    "# Create a sample collection\n",
    "users = {'Hans': 'active', 'Éléonore': 'inactive', '景太郎': 'active'}\n",
    "\n",
    "# making copy using the list  method\n",
    "for user,status in list(users.items()):\n",
    "    if status=='inactive':\n",
    "        del users[user]\n",
    "\n",
    "# Strategy:  Create a new collection\n",
    "active_users = {}\n",
    "for user,status in list(users.items()):\n",
    "    if status=='active':\n",
    "        active_users[user]=status\n",
    "print(users)\n",
    "print(active_users)"
   ]
  },
  {
   "cell_type": "code",
   "execution_count": 37,
   "id": "63b06cc1",
   "metadata": {},
   "outputs": [
    {
     "name": "stdout",
     "output_type": "stream",
     "text": [
      "{'Hans': 'active', '景太郎': 'active'}\n",
      "{'Hans': 'active', '景太郎': 'active'}\n"
     ]
    }
   ],
   "source": [
    "# 2 method to do the above code\n",
    "# make a  copy using copy function\n",
    "for user,status in users.copy().items():\n",
    "    if status=='inactive':\n",
    "        del users[user]\n",
    "        \n",
    "active_users = {}\n",
    "for user,status in users.items():\n",
    "    if status=='active':\n",
    "        active_users[user]=status\n",
    "print(users)\n",
    "print(active_users)\n",
    "\n",
    "# The code snippet is a solution for an error:dictionary changed size during iteration, in python while iterating through a diction\n",
    "# -ry you can not add or delete something in that original dictionary for that purpose if you want to make changes in the diction\n",
    "# -ry you have to create a copy for it copy can be made by two methods .copy() and the list() method the former method creates \n",
    "# a copy of the dictionary items here the dictionary is having the copy() method if you write the .copy() after the items it will give\n",
    "# an AttributeError: 'dict_items' object has no attribute 'copy' the later method creates a list of the items of dictionary and \n",
    "# then iterates over it.In the remaining code if the status which is the value of the respective key(user) in the dictionary matches\n",
    "# the value 'active' then the respective key and its value is deleted from the dictionary and later on in the other code snippet\n",
    "# it iterates on the items of the dictionary users and if the status is equal to 'active' it adds the key and its value to the \n",
    "# dictionary active_users\n",
    "                                                                            "
   ]
  },
  {
   "cell_type": "code",
   "execution_count": 38,
   "id": "f5fdc003",
   "metadata": {},
   "outputs": [
    {
     "data": {
      "text/plain": [
       "dict_items([('Hans', 'active'), ('Éléonore', 'inactive'), ('景太郎', 'active')])"
      ]
     },
     "execution_count": 38,
     "metadata": {},
     "output_type": "execute_result"
    }
   ],
   "source": [
    "users = {'Hans': 'active', 'Éléonore': 'inactive', '景太郎': 'active'}\n",
    "sal=users.copy().items()\n",
    "sal"
   ]
  },
  {
   "cell_type": "code",
   "execution_count": 39,
   "id": "07bccc71",
   "metadata": {},
   "outputs": [
    {
     "data": {
      "text/plain": [
       "[('Hans', 'active'), ('Éléonore', 'inactive'), ('景太郎', 'active')]"
      ]
     },
     "execution_count": 39,
     "metadata": {},
     "output_type": "execute_result"
    }
   ],
   "source": [
    "users = {'Hans': 'active', 'Éléonore': 'inactive', '景太郎': 'active'}\n",
    "sal=list(users.items())\n",
    "sal"
   ]
  },
  {
   "cell_type": "markdown",
   "id": "5fddbb23",
   "metadata": {},
   "source": [
    "## Break and Continue Statements, and else clauses on loops"
   ]
  },
  {
   "cell_type": "code",
   "execution_count": 48,
   "id": "ce04e72a",
   "metadata": {},
   "outputs": [
    {
     "name": "stdout",
     "output_type": "stream",
     "text": [
      "2 is a prime number\n",
      "3 is a prime number\n",
      "4 equals 2 x 2\n",
      "5 is a prime number\n",
      "6 equals 2 x 3\n",
      "7 is a prime number\n",
      "8 equals 2 x 4\n",
      "9 equals 3 x 3\n"
     ]
    }
   ],
   "source": [
    "for n in range(2,10):\n",
    "    for x in range(2,n):\n",
    "        if n%x==0:\n",
    "            print(n,'equals', x,'x',n//x)\n",
    "            break\n",
    "    else:\n",
    "        print(n,'is a prime number')\n",
    "#The else statements with for loop is executed when the loop terminates through exhaustion of the \n",
    "# iterable and when the condition is false for while loop and is not executed when the loop is terminat\n",
    "# -ed with a break statement.The code above finds a prime number from range 2 to 10.In the first loop\n",
    "# n is the iterable through the range 2 to 10  similarly in the second loop x is the iterable through\n",
    "# the range 2 to n here  we take the range 2 to n for the purpose that when we find prime numbers\n",
    "# we do not take division by 1 of the number into consideration, so in the second loop we divide the \n",
    "# number 'n' by 'x' starting from 2 to n and as we find its first factor we break the loop.If the factor\n",
    "# is not found then the else statement is executed.NOTE that the  else statement is with the for\n",
    "# loop not with the if statement."
   ]
  },
  {
   "cell_type": "code",
   "execution_count": 50,
   "id": "d365f48b",
   "metadata": {},
   "outputs": [
    {
     "name": "stdout",
     "output_type": "stream",
     "text": [
      "Found an even number 2\n",
      "Found an odd number 3\n",
      "Found an even number 4\n",
      "Found an odd number 5\n",
      "Found an even number 6\n",
      "Found an odd number 7\n",
      "Found an even number 8\n",
      "Found an odd number 9\n"
     ]
    }
   ],
   "source": [
    "for num in range(2, 10):\n",
    "    if num % 2 == 0:\n",
    "        print(\"Found an even number\", num)\n",
    "        continue\n",
    "    print(\"Found an odd number\", num)\n",
    "# The above code finds an even number with the help of continue statements the continue statement\n",
    "# is used as an alternate for the else statement here.The code finds even and odd numbers within the \n",
    "# range 2 to 10 here 'num' is the iterable for the loop later on in the  if the reminder of \n",
    "# num modulo 2 equals to zero the if statement is executed if not then it continues and executes the \n",
    "# remaining code"
   ]
  },
  {
   "cell_type": "markdown",
   "id": "82554fbb",
   "metadata": {},
   "source": [
    "## Pass statements"
   ]
  },
  {
   "cell_type": "code",
   "execution_count": 51,
   "id": "c9d0453a",
   "metadata": {},
   "outputs": [],
   "source": [
    "# The pass statements are used when they statements is required syntactically but the promgram does \n",
    "# not perform any action\n",
    "def func():\n",
    "    pass\n",
    "# The advantage of a pass statement is that you can have a reminder to write the code later and by \n",
    "# doing it the code remains valid and does not throw an error"
   ]
  },
  {
   "cell_type": "markdown",
   "id": "0333ad26",
   "metadata": {},
   "source": [
    "## Match Statements"
   ]
  },
  {
   "cell_type": "code",
   "execution_count": 70,
   "id": "9c141a2f",
   "metadata": {},
   "outputs": [
    {
     "data": {
      "text/plain": [
       "'There is something wrong with the internet'"
      ]
     },
     "execution_count": 70,
     "metadata": {},
     "output_type": "execute_result"
    }
   ],
   "source": [
    "def http_error(status):\n",
    "    match status:\n",
    "        case 400:\n",
    "            return 'Bad request'\n",
    "        case 404:\n",
    "            return 'Page not found'\n",
    "        case 418:\n",
    "            return \"I'm a teapot\"\n",
    "        case _:\n",
    "            return \"There is something wrong with the internet\"\n",
    "http_error()\n",
    "\n",
    "#Match statements in python are just the same as Switch statements in C,C++ or any other language\n",
    "# the match statement takes a value for an expression (as status in the above code) and then compares it\n",
    "# with the values of the case statements so the case block is executed accordingly.Here the '_' is used \n",
    "# as replacement for the default statement  in other languages it never fails to match with any  value \n",
    "#for the expression and its block is executed when the expressions value does not match the above \n",
    "# case statement values."
   ]
  },
  {
   "cell_type": "code",
   "execution_count": 77,
   "id": "2c2b8f64",
   "metadata": {},
   "outputs": [
    {
     "name": "stdout",
     "output_type": "stream",
     "text": [
      "Not allowed\n",
      "None\n"
     ]
    }
   ],
   "source": [
    "#You can combine several literals in a single pattern as well\n",
    "def http_error(status):\n",
    "    match status:\n",
    "        case 400| 404 |410:\n",
    "            return 'Not allowed'\n",
    "\n",
    "print(http_error(400))  \n",
    "print(http_error(454))\n",
    "# Here if you enter any value among 400,404 and 410 it will return the result 'Not allowed'.If no case\n",
    "# matches it will give None output(none of the branches is executed)"
   ]
  },
  {
   "cell_type": "code",
   "execution_count": 95,
   "id": "09951814",
   "metadata": {},
   "outputs": [
    {
     "name": "stdout",
     "output_type": "stream",
     "text": [
      "X = 2 Y = 3\n"
     ]
    }
   ],
   "source": [
    "point=(2,3)\n",
    "match point:\n",
    "    case(0,0):\n",
    "        print('Origin')\n",
    "    case(0,y):\n",
    "        print('Y =',y)\n",
    "    case(x,0):\n",
    "        print('X =',x)\n",
    "    case(x,y):\n",
    "        print('X =',x,'Y =',y)\n",
    "    case _:\n",
    "        raise ValueError('Not a point')\n",
    "# The above code is an example of the unpacking assignment.Here in the first case statement there are\n",
    "#  two literals and the next two statements there are both literal and a variable the variable takes\n",
    "# the value from point tuple.In the second last statement there are two variables the elements of the \n",
    "# point tuple are unpacked 2 is assigned to x and 3 is assigned to y.Code raises a Value error with\n",
    "#  a message 'Not a point 'if it experiences a value which can not be defined as a point in the code."
   ]
  },
  {
   "cell_type": "markdown",
   "id": "d8767a03",
   "metadata": {},
   "source": [
    "## Functions"
   ]
  },
  {
   "cell_type": "code",
   "execution_count": 98,
   "id": "ef9d4f16",
   "metadata": {},
   "outputs": [
    {
     "data": {
      "text/plain": [
       "[0, 1, 1, 2, 3, 5, 8]"
      ]
     },
     "execution_count": 98,
     "metadata": {},
     "output_type": "execute_result"
    }
   ],
   "source": [
    "def fib(n):\n",
    "    a,b=0,1\n",
    "    result=[]\n",
    "    while a<n:\n",
    "        result.append(a)\n",
    "        a,b=b,a+b\n",
    "    return result\n",
    "fib(10)\n",
    "# The code snippet is the function which calculate the fibbonaci series for the number which is given\n",
    "# to it as an argument.Furthermore an empty list is defined to which each number of the series is append\n",
    "# -ed in the loop by calling the append() method of the list object the loop iterates till the number \n",
    "# 'a' is smaller than the number 'n' when the loop is terminated the series is returned in the form of\n",
    "# list."
   ]
  },
  {
   "cell_type": "markdown",
   "id": "bd27430f",
   "metadata": {},
   "source": [
    "### Default Argument Values"
   ]
  },
  {
   "cell_type": "code",
   "execution_count": null,
   "id": "89789a18",
   "metadata": {},
   "outputs": [],
   "source": [
    "def ask_ok(prompt,tries=4,reminder='Please try again!'):\n",
    "   \n",
    "    while True:\n",
    "        ok=input(prompt)\n",
    "        if ok in ('y','yes'):\n",
    "            return True\n",
    "        elif ok in ('n','no'):\n",
    "            return False\n",
    "        tries=tries-1\n",
    "        if tries<0:\n",
    "            raise ValueError('Out of tries')\n",
    "        print(reminder)\n",
    "#The function can be called in several ways\n",
    "# ask_ok('Do you really want to quit?')\n",
    "# ask_ok('OK to overwrite the file?', 2)\n",
    "ask_ok('OK to overwrite the file?', 2, 'Come on, only yes or no!')\n",
    "# The code shows the behaviour of default values passed to a function. A function can be called with\n",
    "# less arguments then it is defined  if you specify the default values for the arguments.Here this code\n",
    "# also clears the concept of 'in' as well which checks if the given value is present in the sequence or \n",
    "# not.The value of tries '4' and reminder 'Please try again!' are specified as default values.The code\n",
    "# asks for the prompt and returns True or False according to the prompt value and for incorrect value\n",
    "# of the prompt the code asks again until you are out of tries.When you get out of tries it raises a\n",
    "# Value error with a message \"Out of tries\"."
   ]
  },
  {
   "cell_type": "code",
   "execution_count": 110,
   "id": "5390a721",
   "metadata": {},
   "outputs": [
    {
     "name": "stdout",
     "output_type": "stream",
     "text": [
      "[1]\n",
      "[1, 2]\n",
      "[1, 2, 3]\n"
     ]
    }
   ],
   "source": [
    "#IMPORTANT:- The default value is evaluted only once the behaviour of the default value gets change\n",
    "# if it is a mutable object\n",
    "def func(a,l=[]):\n",
    "    l.append(a)\n",
    "    return l\n",
    "print(func(1))\n",
    "print(func(2))\n",
    "print(func(3))\n",
    "#The code explains the change behaviour when the default value of an argument is mutable here initially\n",
    "# the value of the list 'l' is empty when it is called once the value of 'a' is appended.so whenever it\n",
    "# is called again the list 'l' will be having the value of a which was appended in it when it was called\n",
    "# the previous time and the size of the list will depend on how many times it is being called."
   ]
  },
  {
   "cell_type": "code",
   "execution_count": 111,
   "id": "41c79530",
   "metadata": {},
   "outputs": [
    {
     "name": "stdout",
     "output_type": "stream",
     "text": [
      "[1]\n",
      "[2]\n",
      "[3]\n"
     ]
    }
   ],
   "source": [
    "def func(a, L=None):\n",
    "    if L is None:\n",
    "        L = []\n",
    "    L.append(a)\n",
    "    return L\n",
    "print(func(1))\n",
    "print(func(2))\n",
    "print(func(3))\n",
    "# Now if you don't want the default value to be shared by subsequent calls you can pass the default\n",
    "# value as None and then simply intialize the list as '[]' empty in the if block whenever the \n",
    "# function is called"
   ]
  },
  {
   "cell_type": "markdown",
   "id": "0218f1bf",
   "metadata": {},
   "source": [
    "## Keyword Arguments"
   ]
  },
  {
   "cell_type": "code",
   "execution_count": 1,
   "id": "f5443b29",
   "metadata": {},
   "outputs": [],
   "source": [
    "# The keyword argument gives you the benefit of improved code readability and flexibility in argument \n",
    "# order\n",
    "\n",
    "def parrot(voltage, state='a stiff', action='voom', type='Norwegian Blue'):\n",
    "    print(\"-- This parrot wouldn't\", action, end=' ')\n",
    "    print(\"if you put\", voltage, \"volts through it.\")\n",
    "    print(\"-- Lovely plumage, the\", type)\n",
    "    print(\"-- It's\", state, \"!\")"
   ]
  },
  {
   "cell_type": "code",
   "execution_count": 5,
   "id": "12fca64f",
   "metadata": {},
   "outputs": [
    {
     "name": "stdout",
     "output_type": "stream",
     "text": [
      "-- This parrot wouldn't voom if you put a thousand volts through it.\n",
      "-- Lovely plumage, the Norwegian Blue\n",
      "-- It's pushing up the daisies !\n"
     ]
    }
   ],
   "source": [
    "#1- parrot(1000)\n",
    "# Here a positional argument is passed to a function\n",
    "\n",
    "# 2-parrot(voltage=1000)\n",
    "# The syntax of passing a keyword argument to a function is like the second function call.\n",
    "\n",
    "# 3- parrot(voltage=1000000, action='VOOOOOM')\n",
    "# you can pass the number of keyword arguments according to the number of arguments you have declared \n",
    "# when defining a function.You can pass less but not more as in the 3 function call 2 keyword arguments\n",
    "# are passed\n",
    "\n",
    "parrot('a thousand', state='pushing up the daisies')\n",
    "# you can also pass a combination of a positonal argument and a keyword argument but do keep in mind \n",
    "# in a function call the key word argument must follow a positional argument."
   ]
  },
  {
   "cell_type": "markdown",
   "id": "81b131dd",
   "metadata": {},
   "source": [
    "### The following calls will be invalid"
   ]
  },
  {
   "cell_type": "code",
   "execution_count": 6,
   "id": "e3dbbd38",
   "metadata": {},
   "outputs": [
    {
     "ename": "TypeError",
     "evalue": "parrot() got an unexpected keyword argument 'actor'",
     "output_type": "error",
     "traceback": [
      "\u001b[1;31m---------------------------------------------------------------------------\u001b[0m",
      "\u001b[1;31mTypeError\u001b[0m                                 Traceback (most recent call last)",
      "Input \u001b[1;32mIn [6]\u001b[0m, in \u001b[0;36m<cell line: 10>\u001b[1;34m()\u001b[0m\n\u001b[0;32m      1\u001b[0m \u001b[38;5;66;03m# 1-parrot()\u001b[39;00m\n\u001b[0;32m      2\u001b[0m \u001b[38;5;66;03m# Here the required argument is missing\u001b[39;00m\n\u001b[0;32m      3\u001b[0m \n\u001b[1;32m   (...)\u001b[0m\n\u001b[0;32m      7\u001b[0m \u001b[38;5;66;03m# 3-parrot(110, voltage=220)\u001b[39;00m\n\u001b[0;32m      8\u001b[0m \u001b[38;5;66;03m# duplicate value for the same argument\u001b[39;00m\n\u001b[1;32m---> 10\u001b[0m \u001b[43mparrot\u001b[49m\u001b[43m(\u001b[49m\u001b[43mactor\u001b[49m\u001b[38;5;241;43m=\u001b[39;49m\u001b[38;5;124;43m'\u001b[39;49m\u001b[38;5;124;43mJohn Cleese\u001b[39;49m\u001b[38;5;124;43m'\u001b[39;49m\u001b[43m)\u001b[49m\n",
      "\u001b[1;31mTypeError\u001b[0m: parrot() got an unexpected keyword argument 'actor'"
     ]
    }
   ],
   "source": [
    "# 1-parrot()\n",
    "# Here the required argument is missing\n",
    "\n",
    "# 2-parrot(voltage=5.0, 'dead')\n",
    "# a positional argument after a keyword argument.Keyword argument must follow.\n",
    "\n",
    "# 3-parrot(110, voltage=220)\n",
    "# duplicate value for the same argument\n",
    "\n",
    "parrot(actor='John Cleese') \n",
    "# An unknown keyword argument 'actor' is passed the function parrot does not have an argument named \n",
    "# actor\n",
    "\n",
    "\n"
   ]
  },
  {
   "cell_type": "markdown",
   "id": "8799cb66",
   "metadata": {},
   "source": [
    "### *args and **kwargs"
   ]
  },
  {
   "cell_type": "code",
   "execution_count": null,
   "id": "c0dde515",
   "metadata": {},
   "outputs": [],
   "source": [
    "#ADVANTAGES OF *args AND **kwargs OVER SIMPLY PASSING LIST,TUPLE OR DICTIONRY\n",
    "# 1-variable length arguments:-An *args parameter allows the  function to be called with an arbitrary \n",
    "# number of non-keyword arguments.This can help you when you do not know in advance that how many \n",
    "# arguments will be passed.An **kwargs parameter allows the function to be called with an \n",
    "# arbitrary number of keyword arguments\n",
    "\n",
    "# 2- Reusability with differenct arguments:- You can reuse the function with different arguments easily "
   ]
  },
  {
   "cell_type": "code",
   "execution_count": 8,
   "id": "c0759b1e",
   "metadata": {},
   "outputs": [
    {
     "name": "stdout",
     "output_type": "stream",
     "text": [
      "1001\n"
     ]
    }
   ],
   "source": [
    "# In a function if a parameter of the form **kwargs is present it receives a dictionary and if a\n",
    "# parmeter of the form *args is present it receives a tuple (**kwargs must follow *args)\n",
    "def find_max(*args):\n",
    "    return max(args)\n",
    "print(find_max(3, 99, 1001, 2, 8))\n",
    "# The above function receivesa tuple and find the max number out of it"
   ]
  },
  {
   "cell_type": "code",
   "execution_count": 15,
   "id": "5f040612",
   "metadata": {},
   "outputs": [
    {
     "name": "stdout",
     "output_type": "stream",
     "text": [
      "-- Do you have any Limburger ?\n",
      "-- I'm sorry, we're all out of Limburger\n",
      "(\"It's very runny, sir.\", \"It's really very, VERY runny, sir.\")\n",
      "----------------------------------------\n",
      "shopkeeper : Michael Palin\n",
      "client : John Cleese\n",
      "sketch : Cheese Shop Sketch\n"
     ]
    }
   ],
   "source": [
    "def cheeseshop(kind, *arguments, **keywords):\n",
    "    print(\"-- Do you have any\", kind, \"?\")\n",
    "    print(\"-- I'm sorry, we're all out of\", kind)\n",
    "    for arg in arguments:\n",
    "        print(arg)\n",
    "    print('-'*40)\n",
    "    for kw in keywords:\n",
    "        print(kw,':',keywords[kw])\n",
    "\n",
    "cheeseshop(\"Limburger\", \"It's very runny, sir.\",\n",
    "           \"It's really very, VERY runny, sir.\",\n",
    "           shopkeeper=\"Michael Palin\",\n",
    "           client=\"John Cleese\",\n",
    "           sketch=\"Cheese Shop Sketch\")\n",
    "# The code shows how the parmaters like *args and **kwargs are passed and how do we access each element\n",
    "# of them in the function body.Here the 'arguments' parameters take up two values (\"It's very runny, sir.\",\n",
    "# \"It's really very, VERY runny, sir.\") and the 'keywords' parameter takes a dictionary \n",
    "# { shopkeeper=\"Michael Palin\",\n",
    "#            client=\"John Cleese\",\n",
    "#            sketch=\"Cheese Shop Sketch\"} \n",
    "# both of these parameters are unpacked using for loop.\n"
   ]
  },
  {
   "cell_type": "markdown",
   "id": "81fe2ec1",
   "metadata": {},
   "source": [
    "## Special Parameteres"
   ]
  },
  {
   "cell_type": "code",
   "execution_count": 16,
   "id": "27c2d041",
   "metadata": {},
   "outputs": [],
   "source": [
    "# By default, arguments may be passed to a Python function either by position or explicitly by keyword.\n",
    "# For readability and performance, it makes sense to restrict the way arguments can be passed so that \n",
    "# a developer need only look at the function definition to determine if items are passed by position,\n",
    "# by position or keyword, or by keyword.\n",
    "\n",
    "# if / and * are not present in a function definition then they arguments may be passed by position or\n",
    "# by keyword"
   ]
  },
  {
   "cell_type": "code",
   "execution_count": 17,
   "id": "14eef20a",
   "metadata": {},
   "outputs": [
    {
     "name": "stdout",
     "output_type": "stream",
     "text": [
      "1\n"
     ]
    }
   ],
   "source": [
    "# 1- POSITION ONLY PARAMETERS:- The positon only parameters are placed before '/' in a function definit\n",
    "# -ion.\n",
    "def pos_only_arg(arg, /):\n",
    "    print(arg)\n",
    "pos_only_arg(1)\n"
   ]
  },
  {
   "cell_type": "code",
   "execution_count": 18,
   "id": "cba38be9",
   "metadata": {},
   "outputs": [
    {
     "ename": "TypeError",
     "evalue": "pos_only_arg() got some positional-only arguments passed as keyword arguments: 'arg'",
     "output_type": "error",
     "traceback": [
      "\u001b[1;31m---------------------------------------------------------------------------\u001b[0m",
      "\u001b[1;31mTypeError\u001b[0m                                 Traceback (most recent call last)",
      "Input \u001b[1;32mIn [18]\u001b[0m, in \u001b[0;36m<cell line: 1>\u001b[1;34m()\u001b[0m\n\u001b[1;32m----> 1\u001b[0m \u001b[43mpos_only_arg\u001b[49m\u001b[43m(\u001b[49m\u001b[43marg\u001b[49m\u001b[38;5;241;43m=\u001b[39;49m\u001b[38;5;241;43m1\u001b[39;49m\u001b[43m)\u001b[49m\n",
      "\u001b[1;31mTypeError\u001b[0m: pos_only_arg() got some positional-only arguments passed as keyword arguments: 'arg'"
     ]
    }
   ],
   "source": [
    "pos_only_arg(arg=1)"
   ]
  },
  {
   "cell_type": "code",
   "execution_count": 19,
   "id": "611f81a8",
   "metadata": {},
   "outputs": [
    {
     "name": "stdout",
     "output_type": "stream",
     "text": [
      "3\n"
     ]
    }
   ],
   "source": [
    "# 2- KEYWORD ONLY ARGUMENTS:-The keyword only  parameters placed after '*' in a function definition\n",
    "def kwd_only_arg(*, arg):\n",
    "    print(arg)\n",
    "    \n",
    "kwd_only_arg(arg=3)"
   ]
  },
  {
   "cell_type": "code",
   "execution_count": 20,
   "id": "87ce60cb",
   "metadata": {},
   "outputs": [
    {
     "ename": "TypeError",
     "evalue": "kwd_only_arg() takes 0 positional arguments but 1 was given",
     "output_type": "error",
     "traceback": [
      "\u001b[1;31m---------------------------------------------------------------------------\u001b[0m",
      "\u001b[1;31mTypeError\u001b[0m                                 Traceback (most recent call last)",
      "Input \u001b[1;32mIn [20]\u001b[0m, in \u001b[0;36m<cell line: 1>\u001b[1;34m()\u001b[0m\n\u001b[1;32m----> 1\u001b[0m \u001b[43mkwd_only_arg\u001b[49m\u001b[43m(\u001b[49m\u001b[38;5;241;43m3\u001b[39;49m\u001b[43m)\u001b[49m\n",
      "\u001b[1;31mTypeError\u001b[0m: kwd_only_arg() takes 0 positional arguments but 1 was given"
     ]
    }
   ],
   "source": [
    "kwd_only_arg(3)"
   ]
  },
  {
   "cell_type": "code",
   "execution_count": 21,
   "id": "605f7dc9",
   "metadata": {},
   "outputs": [
    {
     "name": "stdout",
     "output_type": "stream",
     "text": [
      "1 2 3\n"
     ]
    }
   ],
   "source": [
    "# -3 COMBINED PARAMETERS:-In combined function both the parameters positional and keyword both can be \n",
    "# passed but before and after their respective signs.\n",
    "\n",
    "def combined_example(pos_only, /, standard, *, kwd_only):\n",
    "    print(pos_only, standard, kwd_only)\n",
    "combined_example(1, 2, kwd_only=3)\n",
    "#NOTE: In case of standard argument you can pass both positional and keyword argument"
   ]
  },
  {
   "cell_type": "code",
   "execution_count": 22,
   "id": "76fa6226",
   "metadata": {},
   "outputs": [
    {
     "name": "stdout",
     "output_type": "stream",
     "text": [
      "1 2 3\n"
     ]
    }
   ],
   "source": [
    "combined_example(1, standard=2, kwd_only=3)"
   ]
  },
  {
   "cell_type": "code",
   "execution_count": 23,
   "id": "98b3f127",
   "metadata": {},
   "outputs": [
    {
     "ename": "TypeError",
     "evalue": "combined_example() takes 2 positional arguments but 3 were given",
     "output_type": "error",
     "traceback": [
      "\u001b[1;31m---------------------------------------------------------------------------\u001b[0m",
      "\u001b[1;31mTypeError\u001b[0m                                 Traceback (most recent call last)",
      "Input \u001b[1;32mIn [23]\u001b[0m, in \u001b[0;36m<cell line: 1>\u001b[1;34m()\u001b[0m\n\u001b[1;32m----> 1\u001b[0m \u001b[43mcombined_example\u001b[49m\u001b[43m(\u001b[49m\u001b[38;5;241;43m1\u001b[39;49m\u001b[43m,\u001b[49m\u001b[43m \u001b[49m\u001b[38;5;241;43m2\u001b[39;49m\u001b[43m,\u001b[49m\u001b[43m \u001b[49m\u001b[38;5;241;43m3\u001b[39;49m\u001b[43m)\u001b[49m\n",
      "\u001b[1;31mTypeError\u001b[0m: combined_example() takes 2 positional arguments but 3 were given"
     ]
    }
   ],
   "source": [
    "combined_example(1, 2, 3)"
   ]
  },
  {
   "cell_type": "code",
   "execution_count": 24,
   "id": "c099a59b",
   "metadata": {},
   "outputs": [
    {
     "ename": "TypeError",
     "evalue": "combined_example() got some positional-only arguments passed as keyword arguments: 'pos_only'",
     "output_type": "error",
     "traceback": [
      "\u001b[1;31m---------------------------------------------------------------------------\u001b[0m",
      "\u001b[1;31mTypeError\u001b[0m                                 Traceback (most recent call last)",
      "Input \u001b[1;32mIn [24]\u001b[0m, in \u001b[0;36m<cell line: 1>\u001b[1;34m()\u001b[0m\n\u001b[1;32m----> 1\u001b[0m \u001b[43mcombined_example\u001b[49m\u001b[43m(\u001b[49m\u001b[43mpos_only\u001b[49m\u001b[38;5;241;43m=\u001b[39;49m\u001b[38;5;241;43m1\u001b[39;49m\u001b[43m,\u001b[49m\u001b[43m \u001b[49m\u001b[43mstandard\u001b[49m\u001b[38;5;241;43m=\u001b[39;49m\u001b[38;5;241;43m2\u001b[39;49m\u001b[43m,\u001b[49m\u001b[43m \u001b[49m\u001b[43mkwd_only\u001b[49m\u001b[38;5;241;43m=\u001b[39;49m\u001b[38;5;241;43m3\u001b[39;49m\u001b[43m)\u001b[49m\n",
      "\u001b[1;31mTypeError\u001b[0m: combined_example() got some positional-only arguments passed as keyword arguments: 'pos_only'"
     ]
    }
   ],
   "source": [
    "combined_example(pos_only=1, standard=2, kwd_only=3)"
   ]
  },
  {
   "cell_type": "code",
   "execution_count": 29,
   "id": "34eb16e2",
   "metadata": {},
   "outputs": [
    {
     "ename": "TypeError",
     "evalue": "func() got multiple values for argument 'name'",
     "output_type": "error",
     "traceback": [
      "\u001b[1;31m---------------------------------------------------------------------------\u001b[0m",
      "\u001b[1;31mTypeError\u001b[0m                                 Traceback (most recent call last)",
      "Input \u001b[1;32mIn [29]\u001b[0m, in \u001b[0;36m<cell line: 5>\u001b[1;34m()\u001b[0m\n\u001b[0;32m      3\u001b[0m \u001b[38;5;28;01mdef\u001b[39;00m \u001b[38;5;21mfunc\u001b[39m(name,\u001b[38;5;241m*\u001b[39m\u001b[38;5;241m*\u001b[39mkwds):\n\u001b[0;32m      4\u001b[0m     \u001b[38;5;28;01mreturn\u001b[39;00m \u001b[38;5;124m'\u001b[39m\u001b[38;5;124mname\u001b[39m\u001b[38;5;124m'\u001b[39m \u001b[38;5;129;01min\u001b[39;00m kwds\n\u001b[1;32m----> 5\u001b[0m func(\u001b[38;5;241m1\u001b[39m,\u001b[38;5;241m*\u001b[39m\u001b[38;5;241m*\u001b[39m{\u001b[38;5;124m'\u001b[39m\u001b[38;5;124mname\u001b[39m\u001b[38;5;124m'\u001b[39m:\u001b[38;5;241m2\u001b[39m})\n",
      "\u001b[1;31mTypeError\u001b[0m: func() got multiple values for argument 'name'"
     ]
    }
   ],
   "source": [
    "#Benefits of using the symbol '/'\n",
    "# if there is a potential collision between the position argument 'name' and 'name' a key in **kwds.\n",
    "def func(name,**kwds):\n",
    "    return 'name' in kwds\n",
    "\n",
    "func(1,**{'name':2})\n",
    "\n",
    "# so here the function gets confuse that which name is it reffering to the positional argument one\n",
    "# or the key in kwds"
   ]
  },
  {
   "cell_type": "code",
   "execution_count": 33,
   "id": "ea5db88e",
   "metadata": {},
   "outputs": [
    {
     "data": {
      "text/plain": [
       "True"
      ]
     },
     "execution_count": 33,
     "metadata": {},
     "output_type": "execute_result"
    }
   ],
   "source": [
    "# so for that purpose we use the symbol '/' to identify the positional argument\n",
    "def func(name,/,**kwds):\n",
    "    return 'name' in kwds\n",
    "\n",
    "func(1,**{'name':2})\n",
    "#In this code while passing the dictionary you can not just pass the dictionary without putting '**'\n",
    "# infront of it because it is a keyword argument."
   ]
  },
  {
   "cell_type": "markdown",
   "id": "fbd1939b",
   "metadata": {},
   "source": [
    "## Arbitraray argument list"
   ]
  },
  {
   "cell_type": "code",
   "execution_count": 39,
   "id": "72b14702",
   "metadata": {},
   "outputs": [
    {
     "name": "stdout",
     "output_type": "stream",
     "text": [
      "earth.mars.venus\n"
     ]
    }
   ],
   "source": [
    "#any parameters that occur after *args are keyword only arguments\n",
    "def concat(*args,sep='.'):\n",
    "    print(sep.join(args))\n",
    "concat(\"earth\", \"mars\", \"venus\")\n",
    "# the function joins the list of arguments with a seperator '.' in this case."
   ]
  },
  {
   "cell_type": "code",
   "execution_count": 40,
   "id": "1791eb2d",
   "metadata": {},
   "outputs": [
    {
     "name": "stdout",
     "output_type": "stream",
     "text": [
      "e.a.r.t.h\n",
      "m.a.r.s\n",
      "v.e.n.u.s\n"
     ]
    }
   ],
   "source": [
    "def concat(*args,sep='.'):\n",
    "    for arg in args:\n",
    "        print(sep.join(arg))\n",
    "        \n",
    "concat(\"earth\", \"mars\", \"venus\")\n",
    "# Here the output is changed because the join() method is applied on each argument and it joins each \n",
    "# argument with the seperator '.'"
   ]
  },
  {
   "cell_type": "markdown",
   "id": "52668ed6",
   "metadata": {},
   "source": [
    "## Unpacking Argument lists"
   ]
  },
  {
   "cell_type": "code",
   "execution_count": 48,
   "id": "a2da04bd",
   "metadata": {},
   "outputs": [
    {
     "data": {
      "text/plain": [
       "[3, 4, 5]"
      ]
     },
     "execution_count": 48,
     "metadata": {},
     "output_type": "execute_result"
    }
   ],
   "source": [
    "list(range(3, 6))\n",
    "#call with seperate argument lists"
   ]
  },
  {
   "cell_type": "code",
   "execution_count": 47,
   "id": "c5e69e35",
   "metadata": {},
   "outputs": [
    {
     "data": {
      "text/plain": [
       "[3, 4, 5]"
      ]
     },
     "execution_count": 47,
     "metadata": {},
     "output_type": "execute_result"
    }
   ],
   "source": [
    "args=[3,6]\n",
    "list(range(*args))\n",
    "# here the arguments are unpacked using '*'"
   ]
  },
  {
   "cell_type": "code",
   "execution_count": 49,
   "id": "70772773",
   "metadata": {},
   "outputs": [
    {
     "name": "stdout",
     "output_type": "stream",
     "text": [
      "-- This parrot wouldn't VOOM if you put four million volts through it. E's bleedin' demised !\n"
     ]
    }
   ],
   "source": [
    "def parrot(voltage, state='a stiff', action='voom'):\n",
    "    print(\"-- This parrot wouldn't\", action, end=' ')\n",
    "    print(\"if you put\", voltage, \"volts through it.\", end=' ')\n",
    "    print(\"E's\", state, \"!\")\n",
    "\n",
    "d = {\"voltage\": \"four million\", \"state\": \"bleedin' demised\", \"action\": \"VOOM\"}\n",
    "parrot(**d)\n",
    "# here the dictionary 'd' is passed and is unpacked using \"**\""
   ]
  },
  {
   "cell_type": "markdown",
   "id": "f34f161d",
   "metadata": {},
   "source": [
    "## Lambda Expressions"
   ]
  },
  {
   "cell_type": "code",
   "execution_count": 50,
   "id": "af043e8f",
   "metadata": {},
   "outputs": [
    {
     "data": {
      "text/plain": [
       "34"
      ]
     },
     "execution_count": 50,
     "metadata": {},
     "output_type": "execute_result"
    }
   ],
   "source": [
    "def make_incrementor(n):\n",
    "    return lambda x:x+n\n",
    "f=make_incrementor(34)\n",
    "f(0)"
   ]
  },
  {
   "cell_type": "code",
   "execution_count": 51,
   "id": "08677a7b",
   "metadata": {},
   "outputs": [
    {
     "data": {
      "text/plain": [
       "37"
      ]
     },
     "execution_count": 51,
     "metadata": {},
     "output_type": "execute_result"
    }
   ],
   "source": [
    "f(3)\n",
    "# The above code snippet increments a value 'n' according to the argument passed to the lambda functio\n",
    "# -n .The function make incrementor returns a lambda function here so later on in the code the variable 'f' is assigned\n",
    "# the lambda function in f(0) 0 is the argument of the lambda function and we increments the value n\n",
    "# by 0 and similarly in f(3) it increments the value n by 3"
   ]
  },
  {
   "cell_type": "code",
   "execution_count": 52,
   "id": "a3b8b57a",
   "metadata": {},
   "outputs": [
    {
     "data": {
      "text/plain": [
       "[(4, 'four'), (1, 'one'), (3, 'three'), (2, 'two')]"
      ]
     },
     "execution_count": 52,
     "metadata": {},
     "output_type": "execute_result"
    }
   ],
   "source": [
    "# Here in this example the lambda function is passed as an argument to the sort() method.\n",
    "pairs = [(1, 'one'), (2, 'two'), (3, 'three'), (4, 'four')]\n",
    "pairs.sort(key=lambda pair:pair[1])\n",
    "pairs\n",
    "# The above chunk of code is an example to show how the lambda functions can be passed as an argument.\n",
    "# Here the list pairs is sort in place means that it modifies the original list rather than creating\n",
    "# a new list.The lambda function takes each pair(each tuple of the list) and returns the second element\n",
    "# of it which is at index [1]. Then the sort function sorts the lists on the basis of the return values \n"
   ]
  },
  {
   "cell_type": "markdown",
   "id": "bdc45ffe",
   "metadata": {},
   "source": [
    "## Data Structures"
   ]
  },
  {
   "cell_type": "markdown",
   "id": "4b0b1ba1",
   "metadata": {},
   "source": [
    "### More on Lists"
   ]
  },
  {
   "cell_type": "code",
   "execution_count": 1,
   "id": "5268509f",
   "metadata": {},
   "outputs": [
    {
     "data": {
      "text/plain": [
       "2"
      ]
     },
     "execution_count": 1,
     "metadata": {},
     "output_type": "execute_result"
    }
   ],
   "source": [
    "fruits = ['orange', 'apple', 'pear', 'banana', 'kiwi', 'apple', 'banana']\n",
    "fruits.count('apple')\n",
    "# Count() is  a list method that counts the number of times the argument('apple' in this case) appears \n",
    "# in the list."
   ]
  },
  {
   "cell_type": "code",
   "execution_count": 2,
   "id": "b9b9fc38",
   "metadata": {},
   "outputs": [
    {
     "data": {
      "text/plain": [
       "0"
      ]
     },
     "execution_count": 2,
     "metadata": {},
     "output_type": "execute_result"
    }
   ],
   "source": [
    "fruits.count('tangerine')"
   ]
  },
  {
   "cell_type": "code",
   "execution_count": 3,
   "id": "185c1d41",
   "metadata": {},
   "outputs": [
    {
     "data": {
      "text/plain": [
       "3"
      ]
     },
     "execution_count": 3,
     "metadata": {},
     "output_type": "execute_result"
    }
   ],
   "source": [
    "fruits.index('banana')\n",
    "# The list method index() returns the index of banana in the list."
   ]
  },
  {
   "cell_type": "code",
   "execution_count": 8,
   "id": "ba69f9b9",
   "metadata": {},
   "outputs": [
    {
     "data": {
      "text/plain": [
       "6"
      ]
     },
     "execution_count": 8,
     "metadata": {},
     "output_type": "execute_result"
    }
   ],
   "source": [
    "fruits.index('banana',4,7)\n",
    "# The start and end arguments(4,7 in this case) are optional but as here are two bananas we have to \n",
    "# search for the other starting from the index 4 till index 7."
   ]
  },
  {
   "cell_type": "code",
   "execution_count": 12,
   "id": "ae3760aa",
   "metadata": {},
   "outputs": [
    {
     "data": {
      "text/plain": [
       "['banana', 'apple', 'kiwi', 'banana', 'pear', 'apple', 'orange']"
      ]
     },
     "execution_count": 12,
     "metadata": {},
     "output_type": "execute_result"
    }
   ],
   "source": [
    "fruits.reverse()\n",
    "fruits\n",
    "# The reverse() method reverse the elements of the list in place."
   ]
  },
  {
   "cell_type": "code",
   "execution_count": 14,
   "id": "0daf2937",
   "metadata": {},
   "outputs": [
    {
     "data": {
      "text/plain": [
       "['banana', 'apple', 'kiwi', 'banana', 'pear', 'apple', 'orange', 'grape']"
      ]
     },
     "execution_count": 14,
     "metadata": {},
     "output_type": "execute_result"
    }
   ],
   "source": [
    "fruits.append('grape')\n",
    "fruits\n",
    "# The append() method adds the value at the end to the list."
   ]
  },
  {
   "cell_type": "code",
   "execution_count": 17,
   "id": "8bf0bfcd",
   "metadata": {},
   "outputs": [
    {
     "data": {
      "text/plain": [
       "['apple', 'apple', 'banana', 'banana', 'grape', 'kiwi', 'orange', 'pear']"
      ]
     },
     "execution_count": 17,
     "metadata": {},
     "output_type": "execute_result"
    }
   ],
   "source": [
    "fruits.sort()\n",
    "fruits\n",
    "# The sort method sorts the element of the list inplace."
   ]
  },
  {
   "cell_type": "code",
   "execution_count": 18,
   "id": "d09f3817",
   "metadata": {},
   "outputs": [
    {
     "data": {
      "text/plain": [
       "'pear'"
      ]
     },
     "execution_count": 18,
     "metadata": {},
     "output_type": "execute_result"
    }
   ],
   "source": [
    "fruits.pop()\n",
    "# The pop() method removes and return the last item in the list.If the index is specified in the method\n",
    "# like pop(i) the item on the specified index will be removed and returned."
   ]
  },
  {
   "cell_type": "markdown",
   "id": "035f91fb",
   "metadata": {},
   "source": [
    "### Points to Ponder"
   ]
  },
  {
   "cell_type": "code",
   "execution_count": 19,
   "id": "111a520c",
   "metadata": {},
   "outputs": [
    {
     "data": {
      "text/plain": [
       "[None, 3, 'juiice']"
      ]
     },
     "execution_count": 19,
     "metadata": {},
     "output_type": "execute_result"
    }
   ],
   "source": [
    "# Methods like insert,remove,sort also have a return value 'None'\n",
    "# Not all data can be compared for example you have a list [None ,'juice'45] it does not sort because\n",
    "# integers can not be compared to strings  and 'None' can not  be compared to other datatypes."
   ]
  },
  {
   "cell_type": "markdown",
   "id": "ea22783e",
   "metadata": {},
   "source": [
    "## Using Lists as Stacks"
   ]
  },
  {
   "cell_type": "code",
   "execution_count": 20,
   "id": "7cd3dfb9",
   "metadata": {},
   "outputs": [],
   "source": [
    "# Stack is a LIFO data structure in which  the last element is the first to get out.By using the list \n",
    "# method it is very easy to use lists as stacks.To add item to the top of the stack use append() to \n",
    "# remove item from the top of the stack use pop()"
   ]
  },
  {
   "cell_type": "code",
   "execution_count": 21,
   "id": "de20ac63",
   "metadata": {},
   "outputs": [],
   "source": [
    "stack = [3, 4, 5]\n",
    "stack.append(6)\n",
    "stack.append(7)"
   ]
  },
  {
   "cell_type": "code",
   "execution_count": 22,
   "id": "7531c22b",
   "metadata": {},
   "outputs": [
    {
     "data": {
      "text/plain": [
       "[3, 4, 5, 6, 7]"
      ]
     },
     "execution_count": 22,
     "metadata": {},
     "output_type": "execute_result"
    }
   ],
   "source": [
    "stack"
   ]
  },
  {
   "cell_type": "code",
   "execution_count": 23,
   "id": "b9434b9d",
   "metadata": {},
   "outputs": [
    {
     "data": {
      "text/plain": [
       "7"
      ]
     },
     "execution_count": 23,
     "metadata": {},
     "output_type": "execute_result"
    }
   ],
   "source": [
    "stack.pop()"
   ]
  },
  {
   "cell_type": "code",
   "execution_count": 24,
   "id": "91e5e718",
   "metadata": {},
   "outputs": [
    {
     "data": {
      "text/plain": [
       "6"
      ]
     },
     "execution_count": 24,
     "metadata": {},
     "output_type": "execute_result"
    }
   ],
   "source": [
    "stack.pop()"
   ]
  },
  {
   "cell_type": "code",
   "execution_count": 25,
   "id": "7b28d8aa",
   "metadata": {},
   "outputs": [
    {
     "data": {
      "text/plain": [
       "[3, 4, 5]"
      ]
     },
     "execution_count": 25,
     "metadata": {},
     "output_type": "execute_result"
    }
   ],
   "source": [
    "stack"
   ]
  },
  {
   "cell_type": "markdown",
   "id": "d65eefac",
   "metadata": {},
   "source": [
    "## Using list as queues"
   ]
  },
  {
   "cell_type": "code",
   "execution_count": 26,
   "id": "7f200392",
   "metadata": {},
   "outputs": [],
   "source": [
    "# Queue is a FIFO data structure in which the first element added will be the first to get out.\n",
    "# however, lists are not efficient for this purpose. While appends and pops from the end of list are \n",
    "# fast, doing inserts or pops from the beginning of a list is slow."
   ]
  },
  {
   "cell_type": "code",
   "execution_count": 42,
   "id": "5b195863",
   "metadata": {},
   "outputs": [],
   "source": [
    "# To implement a queue, use collections.deque which was designed to have fast appends and pops \n",
    "# from both ends.\n",
    "from collections import deque\n",
    "queue=deque(['Salman','Ali','Amir'])\n",
    "queue.append(\"Mirwais\")           # Mirwais arrives\n",
    "queue.append(\"Hamza\")            # Hamza arrives"
   ]
  },
  {
   "cell_type": "code",
   "execution_count": 43,
   "id": "26ec0168",
   "metadata": {},
   "outputs": [
    {
     "data": {
      "text/plain": [
       "'Salman'"
      ]
     },
     "execution_count": 43,
     "metadata": {},
     "output_type": "execute_result"
    }
   ],
   "source": [
    "queue.popleft() # The first to arrive leaves at first"
   ]
  },
  {
   "cell_type": "code",
   "execution_count": 44,
   "id": "26a3e6fe",
   "metadata": {},
   "outputs": [
    {
     "data": {
      "text/plain": [
       "'Ali'"
      ]
     },
     "execution_count": 44,
     "metadata": {},
     "output_type": "execute_result"
    }
   ],
   "source": [
    "queue.popleft() # The second to arrive leaves at second"
   ]
  },
  {
   "cell_type": "code",
   "execution_count": 45,
   "id": "f8c3197f",
   "metadata": {},
   "outputs": [
    {
     "data": {
      "text/plain": [
       "deque(['Amir', 'Mirwais', 'Hamza'])"
      ]
     },
     "execution_count": 45,
     "metadata": {},
     "output_type": "execute_result"
    }
   ],
   "source": [
    "queue"
   ]
  },
  {
   "cell_type": "markdown",
   "id": "a96b50a7",
   "metadata": {},
   "source": [
    "## List Comprehension"
   ]
  },
  {
   "cell_type": "code",
   "execution_count": 46,
   "id": "bda9a9ec",
   "metadata": {},
   "outputs": [],
   "source": [
    "#List comprehensions provide  a concise way to make lists.Common applications are to make new lists \n",
    "# where each element is the result of some operations applied to each member of another sequence or \n",
    "# iterable, or to create a subsequence of those elements that satisfy a certain condition."
   ]
  },
  {
   "cell_type": "code",
   "execution_count": 48,
   "id": "c43d3ced",
   "metadata": {},
   "outputs": [
    {
     "data": {
      "text/plain": [
       "[0, 1, 4, 9, 16, 25, 36, 49, 64, 81]"
      ]
     },
     "execution_count": 48,
     "metadata": {},
     "output_type": "execute_result"
    }
   ],
   "source": [
    "# commonly when we have to create a list of squares.\n",
    "squares=[]\n",
    "for x in range(10):\n",
    "    squares.append(x**2)\n",
    "squares\n",
    "# Note that this creates (or overwrites) a variable named x that still exists after the loop completes. \n",
    "# We can calculate the list of squares without any side effects using:"
   ]
  },
  {
   "cell_type": "code",
   "execution_count": 49,
   "id": "5d61c695",
   "metadata": {},
   "outputs": [
    {
     "data": {
      "text/plain": [
       "[0, 1, 4, 9, 16, 25, 36, 49, 64, 81]"
      ]
     },
     "execution_count": 49,
     "metadata": {},
     "output_type": "execute_result"
    }
   ],
   "source": [
    "squares=[x**2 for x in range(10)]\n",
    "squares\n",
    "# Here in the above code it creates the variable x and uses it to iterate over the range but it is \n",
    "# local to the comprehension. Once the comprehension completes it is no longer accessible."
   ]
  },
  {
   "cell_type": "code",
   "execution_count": 50,
   "id": "942959a9",
   "metadata": {},
   "outputs": [
    {
     "data": {
      "text/plain": [
       "[0, 1, 4, 9, 16, 25, 36, 49, 64, 81]"
      ]
     },
     "execution_count": 50,
     "metadata": {},
     "output_type": "execute_result"
    }
   ],
   "source": [
    "squares=list(map(lambda x:x**2,range(10)))\n",
    "squares   \n",
    "# range(10) creates an iterable and the map function applies the lambda function(which calculates the \n",
    "# square) to each element in the iterable generated by range(10).  "
   ]
  },
  {
   "cell_type": "code",
   "execution_count": 51,
   "id": "b87a75e7",
   "metadata": {},
   "outputs": [
    {
     "data": {
      "text/plain": [
       "[(1, 3), (1, 4), (2, 3), (2, 1), (2, 4), (3, 1), (3, 4)]"
      ]
     },
     "execution_count": 51,
     "metadata": {},
     "output_type": "execute_result"
    }
   ],
   "source": [
    "[(x,y) for x in [1,2,3] for y in [3,1,4] if x!=y]\n",
    "# Here it is like a nested loop a list is made of tuples (x,y) where the condition x not equals y meets\n",
    "# in the first iteration for the first for loop it compares x=1 with the value y gets in each iteration\n",
    "# of the second for loop.If it matches the tuple is added to the list."
   ]
  },
  {
   "cell_type": "markdown",
   "id": "038ac019",
   "metadata": {},
   "source": [
    "### Practice on List Comprehensions"
   ]
  },
  {
   "cell_type": "code",
   "execution_count": 53,
   "id": "6e071eb1",
   "metadata": {},
   "outputs": [
    {
     "data": {
      "text/plain": [
       "[-8, -4, 0, 4, 8]"
      ]
     },
     "execution_count": 53,
     "metadata": {},
     "output_type": "execute_result"
    }
   ],
   "source": [
    "vec=[-4,-2,0,2,4]\n",
    "[x*2 for x in vec]"
   ]
  },
  {
   "cell_type": "code",
   "execution_count": 57,
   "id": "00a1afea",
   "metadata": {},
   "outputs": [
    {
     "data": {
      "text/plain": [
       "[0, 2, 4]"
      ]
     },
     "execution_count": 57,
     "metadata": {},
     "output_type": "execute_result"
    }
   ],
   "source": [
    "[x for x in vec if x>=0 ]"
   ]
  },
  {
   "cell_type": "code",
   "execution_count": 58,
   "id": "7d59b227",
   "metadata": {},
   "outputs": [
    {
     "data": {
      "text/plain": [
       "[4, 2, 0, 2, 4]"
      ]
     },
     "execution_count": 58,
     "metadata": {},
     "output_type": "execute_result"
    }
   ],
   "source": [
    "[abs(x) for x in vec]"
   ]
  },
  {
   "cell_type": "code",
   "execution_count": 59,
   "id": "cd94c6e5",
   "metadata": {},
   "outputs": [
    {
     "data": {
      "text/plain": [
       "['banana', 'loganberry', 'passion fruit']"
      ]
     },
     "execution_count": 59,
     "metadata": {},
     "output_type": "execute_result"
    }
   ],
   "source": [
    "freshfruit = ['  banana', '  loganberry ', 'passion fruit  ']\n",
    "[x.strip() for x in freshfruit]\n",
    "# the strip() method removes the spaces from the start and end of the string."
   ]
  },
  {
   "cell_type": "code",
   "execution_count": 60,
   "id": "0eb55e36",
   "metadata": {},
   "outputs": [
    {
     "data": {
      "text/plain": [
       "[(-4, 16), (-2, 4), (0, 0), (2, 4), (4, 16)]"
      ]
     },
     "execution_count": 60,
     "metadata": {},
     "output_type": "execute_result"
    }
   ],
   "source": [
    "[(x,x**2) for x in vec]"
   ]
  },
  {
   "cell_type": "code",
   "execution_count": 9,
   "id": "89225a9b",
   "metadata": {},
   "outputs": [
    {
     "data": {
      "text/plain": [
       "[1, 2, 3, 4, 5, 6, 7, 8, 9]"
      ]
     },
     "execution_count": 9,
     "metadata": {},
     "output_type": "execute_result"
    }
   ],
   "source": [
    "# flatten a list using a listcomp with two 'for'\n",
    "vec = [[1,2,3], [4,5,6], [7,8,9]]\n",
    "[i for x in vec for i in x]\n",
    "# The logic is that in first loop you get into each sublist and then in the second loop you get into \n",
    "# each element of the sublist.Here in this code 'i' is the main objective that you want so you apply the\n",
    "# logic using two for loops to get the value of i."
   ]
  },
  {
   "cell_type": "code",
   "execution_count": 2,
   "id": "78e60a72",
   "metadata": {},
   "outputs": [
    {
     "data": {
      "text/plain": [
       "[3.0, 3.1, 3.14, 3.142, 3.1416]"
      ]
     },
     "execution_count": 2,
     "metadata": {},
     "output_type": "execute_result"
    }
   ],
   "source": [
    "from math import pi\n",
    "[round(pi,i) for i in range(5)]\n",
    "# The above code import pi from the python math library and then uses the round() method to round the \n",
    "# value of pi  to decimal places according to the number generated by the iterable range(5)."
   ]
  },
  {
   "cell_type": "markdown",
   "id": "a09a1a3b",
   "metadata": {},
   "source": [
    "## Nested List Comprehensions"
   ]
  },
  {
   "cell_type": "code",
   "execution_count": 4,
   "id": "414a2b08",
   "metadata": {},
   "outputs": [
    {
     "name": "stdout",
     "output_type": "stream",
     "text": [
      "[[1, 2, 3, 4], [5, 6, 7, 8], [9, 10, 11, 12]]\n"
     ]
    }
   ],
   "source": [
    "matrix = [\n",
    "    [1, 2, 3, 4],\n",
    "    [5, 6, 7, 8],\n",
    "    [9, 10, 11, 12],\n",
    "]\n",
    "matrix"
   ]
  },
  {
   "cell_type": "code",
   "execution_count": 7,
   "id": "4cadade1",
   "metadata": {},
   "outputs": [
    {
     "data": {
      "text/plain": [
       "[[1, 5, 9], [2, 6, 10], [3, 7, 11], [4, 8, 12]]"
      ]
     },
     "execution_count": 7,
     "metadata": {},
     "output_type": "execute_result"
    }
   ],
   "source": [
    "# Transpose of a matrix\n",
    "[[x[i] for x in matrix] for i in range(4)]\n",
    "# In nested list comprehensions the loop that appears on the outermost level is the outerloop (range(4)\n",
    "# in this case) and then for each iteration of the outer loop the inner loop 'x[i] for x in matrix' is\n",
    "# executed.\n"
   ]
  },
  {
   "cell_type": "code",
   "execution_count": 11,
   "id": "78e357d0",
   "metadata": {},
   "outputs": [
    {
     "data": {
      "text/plain": [
       "[(1, 5, 9), (2, 6, 10), (3, 7, 11), (4, 8, 12)]"
      ]
     },
     "execution_count": 11,
     "metadata": {},
     "output_type": "execute_result"
    }
   ],
   "source": [
    "list(zip(*matrix))\n",
    "# The zip() function works by iterating over the provided iterables in parallel.In each iteration it \n",
    "# combines the elements at the same position of each iterable and creates a tuple.Here the '*' passes\n",
    "# all of the iterables in the matrix together.The above code in python is commonly used for finding the\n",
    "# transpose of a matrix."
   ]
  },
  {
   "cell_type": "markdown",
   "id": "1cf035bc",
   "metadata": {},
   "source": [
    "## The del Statement"
   ]
  },
  {
   "cell_type": "code",
   "execution_count": 12,
   "id": "cd805118",
   "metadata": {},
   "outputs": [],
   "source": [
    "# There is a way to remove an item from a list given its index instead of its value: the del statement.\n",
    "# This differs from the pop() method which returns a value. The del statement can also be used to \n",
    "# remove slices from a list or clear the entire list (which we did earlier by assignment of an empty \n",
    "# list to the slice)."
   ]
  },
  {
   "cell_type": "code",
   "execution_count": 16,
   "id": "ffe55571",
   "metadata": {},
   "outputs": [
    {
     "data": {
      "text/plain": [
       "[1, 66.25, 333, 333, 1234.5]"
      ]
     },
     "execution_count": 16,
     "metadata": {},
     "output_type": "execute_result"
    }
   ],
   "source": [
    "a = [-1, 1, 66.25, 333, 333, 1234.5]\n",
    "del a[0]\n",
    "a"
   ]
  },
  {
   "cell_type": "code",
   "execution_count": 17,
   "id": "b16ae9ee",
   "metadata": {},
   "outputs": [
    {
     "data": {
      "text/plain": [
       "[1, 66.25, 1234.5]"
      ]
     },
     "execution_count": 17,
     "metadata": {},
     "output_type": "execute_result"
    }
   ],
   "source": [
    "del a[2:4]\n",
    "a"
   ]
  },
  {
   "cell_type": "code",
   "execution_count": 19,
   "id": "8464cc21",
   "metadata": {},
   "outputs": [
    {
     "data": {
      "text/plain": [
       "[]"
      ]
     },
     "execution_count": 19,
     "metadata": {},
     "output_type": "execute_result"
    }
   ],
   "source": [
    "del a[:]\n",
    "a"
   ]
  },
  {
   "cell_type": "code",
   "execution_count": 20,
   "id": "d657491b",
   "metadata": {},
   "outputs": [],
   "source": [
    "# del can also be used to delete entire variables\n",
    "del a"
   ]
  },
  {
   "cell_type": "code",
   "execution_count": 21,
   "id": "4eff9886",
   "metadata": {},
   "outputs": [
    {
     "ename": "NameError",
     "evalue": "name 'a' is not defined",
     "output_type": "error",
     "traceback": [
      "\u001b[1;31m---------------------------------------------------------------------------\u001b[0m",
      "\u001b[1;31mNameError\u001b[0m                                 Traceback (most recent call last)",
      "Input \u001b[1;32mIn [21]\u001b[0m, in \u001b[0;36m<cell line: 1>\u001b[1;34m()\u001b[0m\n\u001b[1;32m----> 1\u001b[0m \u001b[43ma\u001b[49m\n",
      "\u001b[1;31mNameError\u001b[0m: name 'a' is not defined"
     ]
    }
   ],
   "source": [
    "# Refrencing a now will give you an error\n",
    "a"
   ]
  },
  {
   "cell_type": "markdown",
   "id": "219169c7",
   "metadata": {},
   "source": [
    "## Tuples and Sequences"
   ]
  },
  {
   "cell_type": "code",
   "execution_count": 23,
   "id": "876ecce7",
   "metadata": {},
   "outputs": [],
   "source": [
    "# Tuple is a sequence datatype.Tuple consists of a number of values seperated by commas"
   ]
  },
  {
   "cell_type": "code",
   "execution_count": 43,
   "id": "03dca17b",
   "metadata": {},
   "outputs": [
    {
     "data": {
      "text/plain": [
       "12345"
      ]
     },
     "execution_count": 43,
     "metadata": {},
     "output_type": "execute_result"
    }
   ],
   "source": [
    "t = 12345, 54321, 'hello!' # Tuple packing\n",
    "t[0]"
   ]
  },
  {
   "cell_type": "code",
   "execution_count": 31,
   "id": "a6326e9a",
   "metadata": {},
   "outputs": [
    {
     "data": {
      "text/plain": [
       "(12345, 54321, 'hello!')"
      ]
     },
     "execution_count": 31,
     "metadata": {},
     "output_type": "execute_result"
    }
   ],
   "source": [
    "t"
   ]
  },
  {
   "cell_type": "code",
   "execution_count": 32,
   "id": "85c20be5",
   "metadata": {},
   "outputs": [
    {
     "data": {
      "text/plain": [
       "((12345, 54321, 'hello!'), (1, 2, 3, 4, 5))"
      ]
     },
     "execution_count": 32,
     "metadata": {},
     "output_type": "execute_result"
    }
   ],
   "source": [
    "# Tuples can be nested as well\n",
    "u=t,(1,2,3,4,5)\n",
    "u"
   ]
  },
  {
   "cell_type": "code",
   "execution_count": 33,
   "id": "65e0d439",
   "metadata": {},
   "outputs": [
    {
     "ename": "TypeError",
     "evalue": "'tuple' object does not support item assignment",
     "output_type": "error",
     "traceback": [
      "\u001b[1;31m---------------------------------------------------------------------------\u001b[0m",
      "\u001b[1;31mTypeError\u001b[0m                                 Traceback (most recent call last)",
      "Input \u001b[1;32mIn [33]\u001b[0m, in \u001b[0;36m<cell line: 2>\u001b[1;34m()\u001b[0m\n\u001b[0;32m      1\u001b[0m \u001b[38;5;66;03m#Tuples are immutable\u001b[39;00m\n\u001b[1;32m----> 2\u001b[0m \u001b[43mt\u001b[49m\u001b[43m[\u001b[49m\u001b[38;5;241;43m0\u001b[39;49m\u001b[43m]\u001b[49m\u001b[38;5;241m=\u001b[39m\u001b[38;5;241m8923\u001b[39m\n",
      "\u001b[1;31mTypeError\u001b[0m: 'tuple' object does not support item assignment"
     ]
    }
   ],
   "source": [
    "#Tuples are immutable\n",
    "t[0]=8923"
   ]
  },
  {
   "cell_type": "code",
   "execution_count": 34,
   "id": "f863ab18",
   "metadata": {},
   "outputs": [
    {
     "data": {
      "text/plain": [
       "([1, 2, 4], [5, 6, 7])"
      ]
     },
     "execution_count": 34,
     "metadata": {},
     "output_type": "execute_result"
    }
   ],
   "source": [
    "# But they can contain mutable objects\n",
    "tup=[1,2,4],[5,6,7]\n",
    "tup"
   ]
  },
  {
   "cell_type": "code",
   "execution_count": 36,
   "id": "fa0a2a4d",
   "metadata": {},
   "outputs": [
    {
     "data": {
      "text/plain": [
       "()"
      ]
     },
     "execution_count": 36,
     "metadata": {},
     "output_type": "execute_result"
    }
   ],
   "source": [
    "# Empty tuples can be constructed by an empty pair of parenthesis\n",
    "a=()\n",
    "a"
   ]
  },
  {
   "cell_type": "code",
   "execution_count": 44,
   "id": "2584b439",
   "metadata": {},
   "outputs": [
    {
     "data": {
      "text/plain": [
       "('singelton',)"
      ]
     },
     "execution_count": 44,
     "metadata": {},
     "output_type": "execute_result"
    }
   ],
   "source": [
    "# A single value tuple can be constructed by following a value with a comma\n",
    "tx='singelton',\n",
    "tx"
   ]
  },
  {
   "cell_type": "code",
   "execution_count": 41,
   "id": "397a74a0",
   "metadata": {},
   "outputs": [
    {
     "data": {
      "text/plain": [
       "('singelton',)"
      ]
     },
     "execution_count": 41,
     "metadata": {},
     "output_type": "execute_result"
    }
   ],
   "source": [
    "b=('singelton',)\n",
    "b"
   ]
  },
  {
   "cell_type": "code",
   "execution_count": 46,
   "id": "2483aafc",
   "metadata": {},
   "outputs": [
    {
     "name": "stdout",
     "output_type": "stream",
     "text": [
      "x : 12345   y : 54321   z : hello!\n"
     ]
    }
   ],
   "source": [
    "x,y,z=t\n",
    "print('x :',x,' ','y :',y,' ','z :',z)"
   ]
  },
  {
   "cell_type": "code",
   "execution_count": null,
   "id": "b0c1e2a1",
   "metadata": {},
   "outputs": [],
   "source": []
  }
 ],
 "metadata": {
  "kernelspec": {
   "display_name": "Python 3 (ipykernel)",
   "language": "python",
   "name": "python3"
  },
  "language_info": {
   "codemirror_mode": {
    "name": "ipython",
    "version": 3
   },
   "file_extension": ".py",
   "mimetype": "text/x-python",
   "name": "python",
   "nbconvert_exporter": "python",
   "pygments_lexer": "ipython3",
   "version": "3.10.5"
  }
 },
 "nbformat": 4,
 "nbformat_minor": 5
}
