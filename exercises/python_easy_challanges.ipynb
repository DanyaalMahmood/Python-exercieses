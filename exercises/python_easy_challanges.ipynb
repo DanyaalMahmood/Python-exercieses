{
 "cells": [
  {
   "cell_type": "markdown",
   "id": "6c98a9f6",
   "metadata": {},
   "source": [
    "## Reverse a string"
   ]
  },
  {
   "cell_type": "code",
   "execution_count": 69,
   "id": "9a86a140",
   "metadata": {},
   "outputs": [
    {
     "name": "stdout",
     "output_type": "stream",
     "text": [
      "looc"
     ]
    }
   ],
   "source": [
    "def string_reverser(string):\n",
    "    length=len(string)\n",
    "    var1=length-1\n",
    "    for i in range(length):\n",
    "        print(string[var1],end='')\n",
    "        var1=var1-1\n",
    "    \n",
    "string_reverser('cool')\n",
    "\n",
    "#"
   ]
  },
  {
   "cell_type": "code",
   "execution_count": 81,
   "id": "c8b64f9f",
   "metadata": {},
   "outputs": [
    {
     "name": "stdout",
     "output_type": "stream",
     "text": [
      "looc\n"
     ]
    }
   ],
   "source": [
    "# Better solution\n",
    "string ='cool'\n",
    "print(string[::-1])"
   ]
  },
  {
   "cell_type": "markdown",
   "id": "ceeb0d5a",
   "metadata": {},
   "source": [
    "## Resistor Color"
   ]
  },
  {
   "cell_type": "code",
   "execution_count": 84,
   "id": "e2600953",
   "metadata": {},
   "outputs": [
    {
     "data": {
      "text/plain": [
       "3"
      ]
     },
     "execution_count": 84,
     "metadata": {},
     "output_type": "execute_result"
    }
   ],
   "source": [
    "#The main objective is that we do not have to remember the value of the color so for that we will simply\n",
    "# use a dictionary\n",
    "\n",
    "dict={'Black': 0,\n",
    "'Brown': 1,\n",
    "'Red': 2,\n",
    "'Orange': 3,\n",
    "'Yellow': 4,\n",
    "'Green': 5,\n",
    "'Blue': 6,\n",
    "'Violet': 7,\n",
    "'Grey': 8,\n",
    "'White': 9}\n",
    "def value_finder(color):\n",
    "    return dict[color]\n",
    "value_finder('Orange')"
   ]
  },
  {
   "cell_type": "markdown",
   "id": "5cd9db5e",
   "metadata": {},
   "source": [
    "## Two fer"
   ]
  },
  {
   "cell_type": "code",
   "execution_count": 2,
   "id": "703754fd",
   "metadata": {},
   "outputs": [
    {
     "name": "stdout",
     "output_type": "stream",
     "text": [
      "one for  Ali ,one for me\n"
     ]
    }
   ],
   "source": [
    "# Here two fer refers to an offer by one get one free\n",
    "# so if your freind Ali like a cookie so your task is to write a code which will give you an output:\n",
    "# One for Ali, one for me\n",
    "# we will simply do it with the help of a function\n",
    "def two_fer(who):\n",
    "    print('one for ',who,',one for me')\n",
    "two_fer('Ali')"
   ]
  },
  {
   "cell_type": "code",
   "execution_count": 3,
   "id": "8a1dce30",
   "metadata": {},
   "outputs": [
    {
     "name": "stdout",
     "output_type": "stream",
     "text": [
      "one for  You ,one for me\n"
     ]
    }
   ],
   "source": [
    "two_fer('You')"
   ]
  },
  {
   "cell_type": "markdown",
   "id": "74f1fefb",
   "metadata": {},
   "source": [
    "## Finding isogram"
   ]
  },
  {
   "cell_type": "code",
   "execution_count": 29,
   "id": "854b4698",
   "metadata": {},
   "outputs": [],
   "source": [
    "# Isogram is word or phrase without a repeating letter spaces and hyphens can be repeated"
   ]
  },
  {
   "cell_type": "code",
   "execution_count": 30,
   "id": "e76f5f7f",
   "metadata": {},
   "outputs": [
    {
     "data": {
      "text/plain": [
       "False"
      ]
     },
     "execution_count": 30,
     "metadata": {},
     "output_type": "execute_result"
    }
   ],
   "source": [
    "def isogram_detection(argument):\n",
    "    \n",
    "    if \" \" or '-' in argument:\n",
    "        space_hyphen_count=0\n",
    "        for i in argument:\n",
    "            if i==' 'or i=='-':\n",
    "                space_hyphen_count=space_hyphen_count+1\n",
    "        original_length=len(argument)-space_hyphen_count\n",
    "        argument_set=set(argument)\n",
    "        set_length=len(argument_set)-1\n",
    "        if original_length==set_length:\n",
    "            return True\n",
    "        else:\n",
    "            return False    \n",
    "    else:\n",
    "        original_length=len(argument)\n",
    "        argument_set=set(argument)\n",
    "        set_length=len(argument_set)\n",
    "        if original_length==set_length:\n",
    "            return True\n",
    "        else:\n",
    "            return False\n",
    "            \n",
    "      \n",
    "        \n",
    "isogram_detection('salman')"
   ]
  },
  {
   "cell_type": "code",
   "execution_count": 31,
   "id": "63d6e8e9",
   "metadata": {},
   "outputs": [
    {
     "data": {
      "text/plain": [
       "True"
      ]
     },
     "execution_count": 31,
     "metadata": {},
     "output_type": "execute_result"
    }
   ],
   "source": [
    "isogram_detection('six year old')"
   ]
  },
  {
   "cell_type": "markdown",
   "id": "dded561b",
   "metadata": {},
   "source": [
    "## Panagram detection"
   ]
  },
  {
   "cell_type": "code",
   "execution_count": 91,
   "id": "6bbeae2a",
   "metadata": {},
   "outputs": [
    {
     "data": {
      "text/plain": [
       "True"
      ]
     },
     "execution_count": 91,
     "metadata": {},
     "output_type": "execute_result"
    }
   ],
   "source": [
    "# panagram is a sentence where each and every character of the english alphabet is present\n",
    "# e.g A quick brown fox jumps over a lazy dog\n",
    "alphabets = \"abcdefghijklmnopqrstuvwxyz\"\n",
    "def panagram_detection(sentence):\n",
    "    sentence_without_spaces=sentence.replace(' ','')\n",
    "    length=len(sentence_without_spaces)\n",
    "    count=0\n",
    "    for i in alphabets:\n",
    "        if i in sentence_without_spaces:\n",
    "            count=count+1\n",
    "            if count==26:\n",
    "                return True \n",
    "        else:\n",
    "            return False\n",
    "            \n",
    "            \n",
    "    \n",
    "    \n",
    "panagram_detection('a quick brown fox jumps over the lazy dog')"
   ]
  },
  {
   "cell_type": "code",
   "execution_count": 92,
   "id": "be58b5b1",
   "metadata": {},
   "outputs": [
    {
     "data": {
      "text/plain": [
       "False"
      ]
     },
     "execution_count": 92,
     "metadata": {},
     "output_type": "execute_result"
    }
   ],
   "source": [
    "panagram_detection('salman')"
   ]
  },
  {
   "cell_type": "markdown",
   "id": "939e70d5",
   "metadata": {},
   "source": [
    "## Armstrong Detection"
   ]
  },
  {
   "cell_type": "code",
   "execution_count": 110,
   "id": "bc24873f",
   "metadata": {},
   "outputs": [
    {
     "data": {
      "text/plain": [
       "True"
      ]
     },
     "execution_count": 110,
     "metadata": {},
     "output_type": "execute_result"
    }
   ],
   "source": [
    "def armstrong_detector(number):\n",
    "    num_to_str=str(number)\n",
    "    count_of_num=len(num_to_str)\n",
    "    sum=0\n",
    "    for num in num_to_str:\n",
    "        sum=sum+int(num) ** count_of_num\n",
    "    if number==sum:\n",
    "        return True\n",
    "    else:\n",
    "        return False\n",
    "armstrong_detector(153)"
   ]
  },
  {
   "cell_type": "code",
   "execution_count": 111,
   "id": "f1ee530b",
   "metadata": {},
   "outputs": [
    {
     "data": {
      "text/plain": [
       "False"
      ]
     },
     "execution_count": 111,
     "metadata": {},
     "output_type": "execute_result"
    }
   ],
   "source": [
    "armstrong_detector(154)\n"
   ]
  },
  {
   "cell_type": "code",
   "execution_count": null,
   "id": "c74ec324",
   "metadata": {},
   "outputs": [],
   "source": []
  }
 ],
 "metadata": {
  "kernelspec": {
   "display_name": "Python 3 (ipykernel)",
   "language": "python",
   "name": "python3"
  },
  "language_info": {
   "codemirror_mode": {
    "name": "ipython",
    "version": 3
   },
   "file_extension": ".py",
   "mimetype": "text/x-python",
   "name": "python",
   "nbconvert_exporter": "python",
   "pygments_lexer": "ipython3",
   "version": "3.10.5"
  }
 },
 "nbformat": 4,
 "nbformat_minor": 5
}
