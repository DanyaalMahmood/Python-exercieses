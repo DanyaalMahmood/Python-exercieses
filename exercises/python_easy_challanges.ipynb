{
 "cells": [
  {
   "cell_type": "markdown",
   "id": "6c98a9f6",
   "metadata": {},
   "source": [
    "## Reverse a string"
   ]
  },
  {
   "cell_type": "code",
   "execution_count": 69,
   "id": "9a86a140",
   "metadata": {},
   "outputs": [
    {
     "name": "stdout",
     "output_type": "stream",
     "text": [
      "looc"
     ]
    }
   ],
   "source": [
    "def string_reverser(string):\n",
    "    length=len(string)\n",
    "    var1=length-1\n",
    "    for i in range(length):\n",
    "        print(string[var1],end='')\n",
    "        var1=var1-1\n",
    "    \n",
    "string_reverser('cool')\n",
    "\n",
    "#"
   ]
  },
  {
   "cell_type": "code",
   "execution_count": 81,
   "id": "c8b64f9f",
   "metadata": {},
   "outputs": [
    {
     "name": "stdout",
     "output_type": "stream",
     "text": [
      "looc\n"
     ]
    }
   ],
   "source": [
    "# Better solution\n",
    "string ='cool'\n",
    "print(string[::-1])"
   ]
  },
  {
   "cell_type": "markdown",
   "id": "ceeb0d5a",
   "metadata": {},
   "source": [
    "## Resistor Color"
   ]
  },
  {
   "cell_type": "code",
   "execution_count": 84,
   "id": "e2600953",
   "metadata": {},
   "outputs": [
    {
     "data": {
      "text/plain": [
       "3"
      ]
     },
     "execution_count": 84,
     "metadata": {},
     "output_type": "execute_result"
    }
   ],
   "source": [
    "#The main objective is that we do not have to remember the value of the color so for that we will simply\n",
    "# use a dictionary\n",
    "\n",
    "dict={'Black': 0,\n",
    "'Brown': 1,\n",
    "'Red': 2,\n",
    "'Orange': 3,\n",
    "'Yellow': 4,\n",
    "'Green': 5,\n",
    "'Blue': 6,\n",
    "'Violet': 7,\n",
    "'Grey': 8,\n",
    "'White': 9}\n",
    "def value_finder(color):\n",
    "    return dict[color]\n",
    "value_finder('Orange')"
   ]
  },
  {
   "cell_type": "markdown",
   "id": "5cd9db5e",
   "metadata": {},
   "source": [
    "## Two fer"
   ]
  },
  {
   "cell_type": "code",
   "execution_count": 85,
   "id": "703754fd",
   "metadata": {},
   "outputs": [
    {
     "name": "stdout",
     "output_type": "stream",
     "text": [
      "one for  Ali ,one for me\n"
     ]
    }
   ],
   "source": [
    "# Here two fer refers to an offer by one get one free\n",
    "# so if your freind Ali like a cookie so your task is to write a code which will give you an output:\n",
    "# One for Ali, one for me\n",
    "# we will simply do it with the help of a function\n",
    "def two_fer(who):\n",
    "    print('one for ',who,',one for me')\n",
    "two_fer('Ali')"
   ]
  },
  {
   "cell_type": "code",
   "execution_count": 86,
   "id": "8a1dce30",
   "metadata": {},
   "outputs": [
    {
     "name": "stdout",
     "output_type": "stream",
     "text": [
      "one for  You ,one for me\n"
     ]
    }
   ],
   "source": [
    "two_fer('You')"
   ]
  }
 ],
 "metadata": {
  "kernelspec": {
   "display_name": "Python 3 (ipykernel)",
   "language": "python",
   "name": "python3"
  },
  "language_info": {
   "codemirror_mode": {
    "name": "ipython",
    "version": 3
   },
   "file_extension": ".py",
   "mimetype": "text/x-python",
   "name": "python",
   "nbconvert_exporter": "python",
   "pygments_lexer": "ipython3",
   "version": "3.10.5"
  }
 },
 "nbformat": 4,
 "nbformat_minor": 5
}
