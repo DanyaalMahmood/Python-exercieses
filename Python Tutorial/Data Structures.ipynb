{
 "cells": [
  {
   "cell_type": "markdown",
   "id": "bdc45ffe",
   "metadata": {},
   "source": [
    "## Data Structures"
   ]
  },
  {
   "cell_type": "markdown",
   "id": "4b0b1ba1",
   "metadata": {},
   "source": [
    "### More on Lists"
   ]
  },
  {
   "cell_type": "code",
   "execution_count": 1,
   "id": "5268509f",
   "metadata": {},
   "outputs": [
    {
     "data": {
      "text/plain": [
       "2"
      ]
     },
     "execution_count": 1,
     "metadata": {},
     "output_type": "execute_result"
    }
   ],
   "source": [
    "fruits = ['orange', 'apple', 'pear', 'banana', 'kiwi', 'apple', 'banana']\n",
    "fruits.count('apple')\n",
    "# Count() is  a list method that counts the number of times the argument('apple' in this case) appears \n",
    "# in the list."
   ]
  },
  {
   "cell_type": "code",
   "execution_count": 2,
   "id": "b9b9fc38",
   "metadata": {},
   "outputs": [
    {
     "data": {
      "text/plain": [
       "0"
      ]
     },
     "execution_count": 2,
     "metadata": {},
     "output_type": "execute_result"
    }
   ],
   "source": [
    "fruits.count('tangerine')"
   ]
  },
  {
   "cell_type": "code",
   "execution_count": 3,
   "id": "185c1d41",
   "metadata": {},
   "outputs": [
    {
     "data": {
      "text/plain": [
       "3"
      ]
     },
     "execution_count": 3,
     "metadata": {},
     "output_type": "execute_result"
    }
   ],
   "source": [
    "fruits.index('banana')\n",
    "# The list method index() returns the index of banana in the list."
   ]
  },
  {
   "cell_type": "code",
   "execution_count": 8,
   "id": "ba69f9b9",
   "metadata": {},
   "outputs": [
    {
     "data": {
      "text/plain": [
       "6"
      ]
     },
     "execution_count": 8,
     "metadata": {},
     "output_type": "execute_result"
    }
   ],
   "source": [
    "fruits.index('banana',4,7)\n",
    "# The start and end arguments(4,7 in this case) are optional but as here are two bananas we have to \n",
    "# search for the other starting from the index 4 till index 7."
   ]
  },
  {
   "cell_type": "code",
   "execution_count": 12,
   "id": "ae3760aa",
   "metadata": {},
   "outputs": [
    {
     "data": {
      "text/plain": [
       "['banana', 'apple', 'kiwi', 'banana', 'pear', 'apple', 'orange']"
      ]
     },
     "execution_count": 12,
     "metadata": {},
     "output_type": "execute_result"
    }
   ],
   "source": [
    "fruits.reverse()\n",
    "fruits\n",
    "# The reverse() method reverse the elements of the list in place."
   ]
  },
  {
   "cell_type": "code",
   "execution_count": 14,
   "id": "0daf2937",
   "metadata": {},
   "outputs": [
    {
     "data": {
      "text/plain": [
       "['banana', 'apple', 'kiwi', 'banana', 'pear', 'apple', 'orange', 'grape']"
      ]
     },
     "execution_count": 14,
     "metadata": {},
     "output_type": "execute_result"
    }
   ],
   "source": [
    "fruits.append('grape')\n",
    "fruits\n",
    "# The append() method adds the value at the end to the list."
   ]
  },
  {
   "cell_type": "code",
   "execution_count": 17,
   "id": "8bf0bfcd",
   "metadata": {},
   "outputs": [
    {
     "data": {
      "text/plain": [
       "['apple', 'apple', 'banana', 'banana', 'grape', 'kiwi', 'orange', 'pear']"
      ]
     },
     "execution_count": 17,
     "metadata": {},
     "output_type": "execute_result"
    }
   ],
   "source": [
    "fruits.sort()\n",
    "fruits\n",
    "# The sort method sorts the element of the list inplace."
   ]
  },
  {
   "cell_type": "code",
   "execution_count": 18,
   "id": "d09f3817",
   "metadata": {},
   "outputs": [
    {
     "data": {
      "text/plain": [
       "'pear'"
      ]
     },
     "execution_count": 18,
     "metadata": {},
     "output_type": "execute_result"
    }
   ],
   "source": [
    "fruits.pop()\n",
    "# The pop() method removes and return the last item in the list.If the index is specified in the method\n",
    "# like pop(i) the item on the specified index will be removed and returned."
   ]
  },
  {
   "cell_type": "markdown",
   "id": "035f91fb",
   "metadata": {},
   "source": [
    "### Points to Ponder"
   ]
  },
  {
   "cell_type": "code",
   "execution_count": 19,
   "id": "111a520c",
   "metadata": {},
   "outputs": [
    {
     "data": {
      "text/plain": [
       "[None, 3, 'juiice']"
      ]
     },
     "execution_count": 19,
     "metadata": {},
     "output_type": "execute_result"
    }
   ],
   "source": [
    "# Methods like insert,remove,sort also have a return value 'None'\n",
    "# Not all data can be compared for example you have a list [None ,'juice'45] it does not sort because\n",
    "# integers can not be compared to strings  and 'None' can not  be compared to other datatypes."
   ]
  },
  {
   "cell_type": "markdown",
   "id": "ea22783e",
   "metadata": {},
   "source": [
    "## Using Lists as Stacks"
   ]
  },
  {
   "cell_type": "code",
   "execution_count": 20,
   "id": "7cd3dfb9",
   "metadata": {},
   "outputs": [],
   "source": [
    "# Stack is a LIFO data structure in which  the last element is the first to get out.By using the list \n",
    "# method it is very easy to use lists as stacks.To add item to the top of the stack use append() to \n",
    "# remove item from the top of the stack use pop()"
   ]
  },
  {
   "cell_type": "code",
   "execution_count": 21,
   "id": "de20ac63",
   "metadata": {},
   "outputs": [],
   "source": [
    "stack = [3, 4, 5]\n",
    "stack.append(6)\n",
    "stack.append(7)"
   ]
  },
  {
   "cell_type": "code",
   "execution_count": 22,
   "id": "7531c22b",
   "metadata": {},
   "outputs": [
    {
     "data": {
      "text/plain": [
       "[3, 4, 5, 6, 7]"
      ]
     },
     "execution_count": 22,
     "metadata": {},
     "output_type": "execute_result"
    }
   ],
   "source": [
    "stack"
   ]
  },
  {
   "cell_type": "code",
   "execution_count": 23,
   "id": "b9434b9d",
   "metadata": {},
   "outputs": [
    {
     "data": {
      "text/plain": [
       "7"
      ]
     },
     "execution_count": 23,
     "metadata": {},
     "output_type": "execute_result"
    }
   ],
   "source": [
    "stack.pop()"
   ]
  },
  {
   "cell_type": "code",
   "execution_count": 24,
   "id": "91e5e718",
   "metadata": {},
   "outputs": [
    {
     "data": {
      "text/plain": [
       "6"
      ]
     },
     "execution_count": 24,
     "metadata": {},
     "output_type": "execute_result"
    }
   ],
   "source": [
    "stack.pop()"
   ]
  },
  {
   "cell_type": "code",
   "execution_count": 25,
   "id": "7b28d8aa",
   "metadata": {},
   "outputs": [
    {
     "data": {
      "text/plain": [
       "[3, 4, 5]"
      ]
     },
     "execution_count": 25,
     "metadata": {},
     "output_type": "execute_result"
    }
   ],
   "source": [
    "stack"
   ]
  },
  {
   "cell_type": "markdown",
   "id": "d65eefac",
   "metadata": {},
   "source": [
    "## Using list as queues"
   ]
  },
  {
   "cell_type": "code",
   "execution_count": 26,
   "id": "7f200392",
   "metadata": {},
   "outputs": [],
   "source": [
    "# Queue is a FIFO data structure in which the first element added will be the first to get out.\n",
    "# however, lists are not efficient for this purpose. While appends and pops from the end of list are \n",
    "# fast, doing inserts or pops from the beginning of a list is slow."
   ]
  },
  {
   "cell_type": "code",
   "execution_count": 42,
   "id": "5b195863",
   "metadata": {},
   "outputs": [],
   "source": [
    "# To implement a queue, use collections.deque which was designed to have fast appends and pops \n",
    "# from both ends.\n",
    "from collections import deque\n",
    "queue=deque(['Salman','Ali','Amir'])\n",
    "queue.append(\"Mirwais\")           # Mirwais arrives\n",
    "queue.append(\"Hamza\")            # Hamza arrives"
   ]
  },
  {
   "cell_type": "code",
   "execution_count": 43,
   "id": "26ec0168",
   "metadata": {},
   "outputs": [
    {
     "data": {
      "text/plain": [
       "'Salman'"
      ]
     },
     "execution_count": 43,
     "metadata": {},
     "output_type": "execute_result"
    }
   ],
   "source": [
    "queue.popleft() # The first to arrive leaves at first"
   ]
  },
  {
   "cell_type": "code",
   "execution_count": 44,
   "id": "26a3e6fe",
   "metadata": {},
   "outputs": [
    {
     "data": {
      "text/plain": [
       "'Ali'"
      ]
     },
     "execution_count": 44,
     "metadata": {},
     "output_type": "execute_result"
    }
   ],
   "source": [
    "queue.popleft() # The second to arrive leaves at second"
   ]
  },
  {
   "cell_type": "code",
   "execution_count": 45,
   "id": "f8c3197f",
   "metadata": {},
   "outputs": [
    {
     "data": {
      "text/plain": [
       "deque(['Amir', 'Mirwais', 'Hamza'])"
      ]
     },
     "execution_count": 45,
     "metadata": {},
     "output_type": "execute_result"
    }
   ],
   "source": [
    "queue"
   ]
  },
  {
   "cell_type": "markdown",
   "id": "a96b50a7",
   "metadata": {},
   "source": [
    "## List Comprehension"
   ]
  },
  {
   "cell_type": "code",
   "execution_count": 46,
   "id": "bda9a9ec",
   "metadata": {},
   "outputs": [],
   "source": [
    "#List comprehensions provide  a concise way to make lists.Common applications are to make new lists \n",
    "# where each element is the result of some operations applied to each member of another sequence or \n",
    "# iterable, or to create a subsequence of those elements that satisfy a certain condition."
   ]
  },
  {
   "cell_type": "code",
   "execution_count": 48,
   "id": "c43d3ced",
   "metadata": {},
   "outputs": [
    {
     "data": {
      "text/plain": [
       "[0, 1, 4, 9, 16, 25, 36, 49, 64, 81]"
      ]
     },
     "execution_count": 48,
     "metadata": {},
     "output_type": "execute_result"
    }
   ],
   "source": [
    "# commonly when we have to create a list of squares.\n",
    "squares=[]\n",
    "for x in range(10):\n",
    "    squares.append(x**2)\n",
    "squares\n",
    "# Note that this creates (or overwrites) a variable named x that still exists after the loop completes. \n",
    "# We can calculate the list of squares without any side effects using:"
   ]
  },
  {
   "cell_type": "code",
   "execution_count": 49,
   "id": "5d61c695",
   "metadata": {},
   "outputs": [
    {
     "data": {
      "text/plain": [
       "[0, 1, 4, 9, 16, 25, 36, 49, 64, 81]"
      ]
     },
     "execution_count": 49,
     "metadata": {},
     "output_type": "execute_result"
    }
   ],
   "source": [
    "squares=[x**2 for x in range(10)]\n",
    "squares\n",
    "# Here in the above code it creates the variable x and uses it to iterate over the range but it is \n",
    "# local to the comprehension. Once the comprehension completes it is no longer accessible."
   ]
  },
  {
   "cell_type": "code",
   "execution_count": 50,
   "id": "942959a9",
   "metadata": {},
   "outputs": [
    {
     "data": {
      "text/plain": [
       "[0, 1, 4, 9, 16, 25, 36, 49, 64, 81]"
      ]
     },
     "execution_count": 50,
     "metadata": {},
     "output_type": "execute_result"
    }
   ],
   "source": [
    "squares=list(map(lambda x:x**2,range(10)))\n",
    "squares   \n",
    "# range(10) creates an iterable and the map function applies the lambda function(which calculates the \n",
    "# square) to each element in the iterable generated by range(10).  "
   ]
  },
  {
   "cell_type": "code",
   "execution_count": 51,
   "id": "b87a75e7",
   "metadata": {},
   "outputs": [
    {
     "data": {
      "text/plain": [
       "[(1, 3), (1, 4), (2, 3), (2, 1), (2, 4), (3, 1), (3, 4)]"
      ]
     },
     "execution_count": 51,
     "metadata": {},
     "output_type": "execute_result"
    }
   ],
   "source": [
    "[(x,y) for x in [1,2,3] for y in [3,1,4] if x!=y]\n",
    "# Here it is like a nested loop a list is made of tuples (x,y) where the condition x not equals y meets\n",
    "# in the first iteration for the first for loop it compares x=1 with the value y gets in each iteration\n",
    "# of the second for loop.If it matches the tuple is added to the list."
   ]
  },
  {
   "cell_type": "markdown",
   "id": "038ac019",
   "metadata": {},
   "source": [
    "### Practice on List Comprehensions"
   ]
  },
  {
   "cell_type": "code",
   "execution_count": 53,
   "id": "6e071eb1",
   "metadata": {},
   "outputs": [
    {
     "data": {
      "text/plain": [
       "[-8, -4, 0, 4, 8]"
      ]
     },
     "execution_count": 53,
     "metadata": {},
     "output_type": "execute_result"
    }
   ],
   "source": [
    "vec=[-4,-2,0,2,4]\n",
    "[x*2 for x in vec]"
   ]
  },
  {
   "cell_type": "code",
   "execution_count": 57,
   "id": "00a1afea",
   "metadata": {},
   "outputs": [
    {
     "data": {
      "text/plain": [
       "[0, 2, 4]"
      ]
     },
     "execution_count": 57,
     "metadata": {},
     "output_type": "execute_result"
    }
   ],
   "source": [
    "[x for x in vec if x>=0 ]"
   ]
  },
  {
   "cell_type": "code",
   "execution_count": 58,
   "id": "7d59b227",
   "metadata": {},
   "outputs": [
    {
     "data": {
      "text/plain": [
       "[4, 2, 0, 2, 4]"
      ]
     },
     "execution_count": 58,
     "metadata": {},
     "output_type": "execute_result"
    }
   ],
   "source": [
    "[abs(x) for x in vec]"
   ]
  },
  {
   "cell_type": "code",
   "execution_count": 59,
   "id": "cd94c6e5",
   "metadata": {},
   "outputs": [
    {
     "data": {
      "text/plain": [
       "['banana', 'loganberry', 'passion fruit']"
      ]
     },
     "execution_count": 59,
     "metadata": {},
     "output_type": "execute_result"
    }
   ],
   "source": [
    "freshfruit = ['  banana', '  loganberry ', 'passion fruit  ']\n",
    "[x.strip() for x in freshfruit]\n",
    "# the strip() method removes the spaces from the start and end of the string."
   ]
  },
  {
   "cell_type": "code",
   "execution_count": 60,
   "id": "0eb55e36",
   "metadata": {},
   "outputs": [
    {
     "data": {
      "text/plain": [
       "[(-4, 16), (-2, 4), (0, 0), (2, 4), (4, 16)]"
      ]
     },
     "execution_count": 60,
     "metadata": {},
     "output_type": "execute_result"
    }
   ],
   "source": [
    "[(x,x**2) for x in vec]"
   ]
  },
  {
   "cell_type": "code",
   "execution_count": 9,
   "id": "89225a9b",
   "metadata": {},
   "outputs": [
    {
     "data": {
      "text/plain": [
       "[1, 2, 3, 4, 5, 6, 7, 8, 9]"
      ]
     },
     "execution_count": 9,
     "metadata": {},
     "output_type": "execute_result"
    }
   ],
   "source": [
    "# flatten a list using a listcomp with two 'for'\n",
    "vec = [[1,2,3], [4,5,6], [7,8,9]]\n",
    "[i for x in vec for i in x]\n",
    "# The logic is that in first loop you get into each sublist and then in the second loop you get into \n",
    "# each element of the sublist.Here in this code 'i' is the main objective that you want so you apply the\n",
    "# logic using two for loops to get the value of i."
   ]
  },
  {
   "cell_type": "code",
   "execution_count": 2,
   "id": "78e60a72",
   "metadata": {},
   "outputs": [
    {
     "data": {
      "text/plain": [
       "[3.0, 3.1, 3.14, 3.142, 3.1416]"
      ]
     },
     "execution_count": 2,
     "metadata": {},
     "output_type": "execute_result"
    }
   ],
   "source": [
    "from math import pi\n",
    "[round(pi,i) for i in range(5)]\n",
    "# The above code import pi from the python math library and then uses the round() method to round the \n",
    "# value of pi  to decimal places according to the number generated by the iterable range(5)."
   ]
  },
  {
   "cell_type": "markdown",
   "id": "a09a1a3b",
   "metadata": {},
   "source": [
    "## Nested List Comprehensions"
   ]
  },
  {
   "cell_type": "code",
   "execution_count": 4,
   "id": "414a2b08",
   "metadata": {},
   "outputs": [
    {
     "name": "stdout",
     "output_type": "stream",
     "text": [
      "[[1, 2, 3, 4], [5, 6, 7, 8], [9, 10, 11, 12]]\n"
     ]
    }
   ],
   "source": [
    "matrix = [\n",
    "    [1, 2, 3, 4],\n",
    "    [5, 6, 7, 8],\n",
    "    [9, 10, 11, 12],\n",
    "]\n",
    "matrix"
   ]
  },
  {
   "cell_type": "code",
   "execution_count": 7,
   "id": "4cadade1",
   "metadata": {},
   "outputs": [
    {
     "data": {
      "text/plain": [
       "[[1, 5, 9], [2, 6, 10], [3, 7, 11], [4, 8, 12]]"
      ]
     },
     "execution_count": 7,
     "metadata": {},
     "output_type": "execute_result"
    }
   ],
   "source": [
    "# Transpose of a matrix\n",
    "[[x[i] for x in matrix] for i in range(4)]\n",
    "# In nested list comprehensions the loop that appears on the outermost level is the outerloop (range(4)\n",
    "# in this case) and then for each iteration of the outer loop the inner loop 'x[i] for x in matrix' is\n",
    "# executed.\n"
   ]
  },
  {
   "cell_type": "code",
   "execution_count": 11,
   "id": "78e357d0",
   "metadata": {},
   "outputs": [
    {
     "data": {
      "text/plain": [
       "[(1, 5, 9), (2, 6, 10), (3, 7, 11), (4, 8, 12)]"
      ]
     },
     "execution_count": 11,
     "metadata": {},
     "output_type": "execute_result"
    }
   ],
   "source": [
    "list(zip(*matrix))\n",
    "# The zip() function works by iterating over the provided iterables in parallel.In each iteration it \n",
    "# combines the elements at the same position of each iterable and creates a tuple.Here the '*' passes\n",
    "# all of the iterables in the matrix together.The above code in python is commonly used for finding the\n",
    "# transpose of a matrix."
   ]
  },
  {
   "cell_type": "markdown",
   "id": "1cf035bc",
   "metadata": {},
   "source": [
    "## The del Statement"
   ]
  },
  {
   "cell_type": "code",
   "execution_count": 12,
   "id": "cd805118",
   "metadata": {},
   "outputs": [],
   "source": [
    "# There is a way to remove an item from a list given its index instead of its value: the del statement.\n",
    "# This differs from the pop() method which returns a value. The del statement can also be used to \n",
    "# remove slices from a list or clear the entire list (which we did earlier by assignment of an empty \n",
    "# list to the slice)."
   ]
  },
  {
   "cell_type": "code",
   "execution_count": 16,
   "id": "ffe55571",
   "metadata": {},
   "outputs": [
    {
     "data": {
      "text/plain": [
       "[1, 66.25, 333, 333, 1234.5]"
      ]
     },
     "execution_count": 16,
     "metadata": {},
     "output_type": "execute_result"
    }
   ],
   "source": [
    "a = [-1, 1, 66.25, 333, 333, 1234.5]\n",
    "del a[0]\n",
    "a"
   ]
  },
  {
   "cell_type": "code",
   "execution_count": 17,
   "id": "b16ae9ee",
   "metadata": {},
   "outputs": [
    {
     "data": {
      "text/plain": [
       "[1, 66.25, 1234.5]"
      ]
     },
     "execution_count": 17,
     "metadata": {},
     "output_type": "execute_result"
    }
   ],
   "source": [
    "del a[2:4]\n",
    "a"
   ]
  },
  {
   "cell_type": "code",
   "execution_count": 19,
   "id": "8464cc21",
   "metadata": {},
   "outputs": [
    {
     "data": {
      "text/plain": [
       "[]"
      ]
     },
     "execution_count": 19,
     "metadata": {},
     "output_type": "execute_result"
    }
   ],
   "source": [
    "del a[:]\n",
    "a"
   ]
  },
  {
   "cell_type": "code",
   "execution_count": 20,
   "id": "d657491b",
   "metadata": {},
   "outputs": [],
   "source": [
    "# del can also be used to delete entire variables\n",
    "del a"
   ]
  },
  {
   "cell_type": "code",
   "execution_count": 21,
   "id": "4eff9886",
   "metadata": {},
   "outputs": [
    {
     "ename": "NameError",
     "evalue": "name 'a' is not defined",
     "output_type": "error",
     "traceback": [
      "\u001b[1;31m---------------------------------------------------------------------------\u001b[0m",
      "\u001b[1;31mNameError\u001b[0m                                 Traceback (most recent call last)",
      "Input \u001b[1;32mIn [21]\u001b[0m, in \u001b[0;36m<cell line: 1>\u001b[1;34m()\u001b[0m\n\u001b[1;32m----> 1\u001b[0m \u001b[43ma\u001b[49m\n",
      "\u001b[1;31mNameError\u001b[0m: name 'a' is not defined"
     ]
    }
   ],
   "source": [
    "# Refrencing a now will give you an error\n",
    "a"
   ]
  },
  {
   "cell_type": "markdown",
   "id": "219169c7",
   "metadata": {},
   "source": [
    "## Tuples and Sequences"
   ]
  },
  {
   "cell_type": "code",
   "execution_count": 23,
   "id": "876ecce7",
   "metadata": {},
   "outputs": [],
   "source": [
    "# Tuple is a sequence datatype.Tuple consists of a number of values seperated by commas"
   ]
  },
  {
   "cell_type": "code",
   "execution_count": 43,
   "id": "03dca17b",
   "metadata": {},
   "outputs": [
    {
     "data": {
      "text/plain": [
       "12345"
      ]
     },
     "execution_count": 43,
     "metadata": {},
     "output_type": "execute_result"
    }
   ],
   "source": [
    "t = 12345, 54321, 'hello!' # Tuple packing\n",
    "t[0]"
   ]
  },
  {
   "cell_type": "code",
   "execution_count": 31,
   "id": "a6326e9a",
   "metadata": {},
   "outputs": [
    {
     "data": {
      "text/plain": [
       "(12345, 54321, 'hello!')"
      ]
     },
     "execution_count": 31,
     "metadata": {},
     "output_type": "execute_result"
    }
   ],
   "source": [
    "t"
   ]
  },
  {
   "cell_type": "code",
   "execution_count": 32,
   "id": "85c20be5",
   "metadata": {},
   "outputs": [
    {
     "data": {
      "text/plain": [
       "((12345, 54321, 'hello!'), (1, 2, 3, 4, 5))"
      ]
     },
     "execution_count": 32,
     "metadata": {},
     "output_type": "execute_result"
    }
   ],
   "source": [
    "# Tuples can be nested as well\n",
    "u=t,(1,2,3,4,5)\n",
    "u"
   ]
  },
  {
   "cell_type": "code",
   "execution_count": 33,
   "id": "65e0d439",
   "metadata": {},
   "outputs": [
    {
     "ename": "TypeError",
     "evalue": "'tuple' object does not support item assignment",
     "output_type": "error",
     "traceback": [
      "\u001b[1;31m---------------------------------------------------------------------------\u001b[0m",
      "\u001b[1;31mTypeError\u001b[0m                                 Traceback (most recent call last)",
      "Input \u001b[1;32mIn [33]\u001b[0m, in \u001b[0;36m<cell line: 2>\u001b[1;34m()\u001b[0m\n\u001b[0;32m      1\u001b[0m \u001b[38;5;66;03m#Tuples are immutable\u001b[39;00m\n\u001b[1;32m----> 2\u001b[0m \u001b[43mt\u001b[49m\u001b[43m[\u001b[49m\u001b[38;5;241;43m0\u001b[39;49m\u001b[43m]\u001b[49m\u001b[38;5;241m=\u001b[39m\u001b[38;5;241m8923\u001b[39m\n",
      "\u001b[1;31mTypeError\u001b[0m: 'tuple' object does not support item assignment"
     ]
    }
   ],
   "source": [
    "#Tuples are immutable\n",
    "t[0]=8923"
   ]
  },
  {
   "cell_type": "code",
   "execution_count": 34,
   "id": "f863ab18",
   "metadata": {},
   "outputs": [
    {
     "data": {
      "text/plain": [
       "([1, 2, 4], [5, 6, 7])"
      ]
     },
     "execution_count": 34,
     "metadata": {},
     "output_type": "execute_result"
    }
   ],
   "source": [
    "# But they can contain mutable objects\n",
    "tup=[1,2,4],[5,6,7]\n",
    "tup"
   ]
  },
  {
   "cell_type": "code",
   "execution_count": 36,
   "id": "fa0a2a4d",
   "metadata": {},
   "outputs": [
    {
     "data": {
      "text/plain": [
       "()"
      ]
     },
     "execution_count": 36,
     "metadata": {},
     "output_type": "execute_result"
    }
   ],
   "source": [
    "# Empty tuples can be constructed by an empty pair of parenthesis\n",
    "a=()\n",
    "a"
   ]
  },
  {
   "cell_type": "code",
   "execution_count": 44,
   "id": "2584b439",
   "metadata": {},
   "outputs": [
    {
     "data": {
      "text/plain": [
       "('singelton',)"
      ]
     },
     "execution_count": 44,
     "metadata": {},
     "output_type": "execute_result"
    }
   ],
   "source": [
    "# A single value tuple can be constructed by following a value with a comma\n",
    "tx='singelton',\n",
    "tx"
   ]
  },
  {
   "cell_type": "code",
   "execution_count": 41,
   "id": "397a74a0",
   "metadata": {},
   "outputs": [
    {
     "data": {
      "text/plain": [
       "('singelton',)"
      ]
     },
     "execution_count": 41,
     "metadata": {},
     "output_type": "execute_result"
    }
   ],
   "source": [
    "b=('singelton',)\n",
    "b"
   ]
  },
  {
   "cell_type": "code",
   "execution_count": 46,
   "id": "2483aafc",
   "metadata": {},
   "outputs": [
    {
     "name": "stdout",
     "output_type": "stream",
     "text": [
      "x : 12345   y : 54321   z : hello!\n"
     ]
    }
   ],
   "source": [
    "x,y,z=t\n",
    "print('x :',x,' ','y :',y,' ','z :',z)"
   ]
  },
  {
   "cell_type": "markdown",
   "id": "8d60934f",
   "metadata": {},
   "source": [
    "## Sets"
   ]
  },
  {
   "cell_type": "code",
   "execution_count": 1,
   "id": "cbc6bda8",
   "metadata": {},
   "outputs": [],
   "source": [
    "# Python also includes a data type for sets. A set is an unordered collection with no duplicate \n",
    "# elements Basic uses include membership testing and eliminating duplicate entries. Set objects also \n",
    "# support mathematical operations like union, intersection, difference, and symmetric difference.Curly \n",
    "# braces or the set() function can be used to create sets. Note: to create an empty set you have to use \n",
    "# set(), not {}; the latter creates an empty dictionary"
   ]
  },
  {
   "cell_type": "code",
   "execution_count": 2,
   "id": "76a2f54f",
   "metadata": {},
   "outputs": [
    {
     "data": {
      "text/plain": [
       "{'apple', 'banana', 'peach', 'pear'}"
      ]
     },
     "execution_count": 2,
     "metadata": {},
     "output_type": "execute_result"
    }
   ],
   "source": [
    "basket ={'apple','pear','apple','peach','banana'}\n",
    "basket\n",
    "# The set itself removes the duplicate elements"
   ]
  },
  {
   "cell_type": "code",
   "execution_count": 3,
   "id": "25731fe1",
   "metadata": {},
   "outputs": [
    {
     "data": {
      "text/plain": [
       "True"
      ]
     },
     "execution_count": 3,
     "metadata": {},
     "output_type": "execute_result"
    }
   ],
   "source": [
    "# set offers fast memebership testing\n",
    "'peach' in basket"
   ]
  },
  {
   "cell_type": "code",
   "execution_count": 4,
   "id": "c63fa83a",
   "metadata": {},
   "outputs": [
    {
     "data": {
      "text/plain": [
       "False"
      ]
     },
     "execution_count": 4,
     "metadata": {},
     "output_type": "execute_result"
    }
   ],
   "source": [
    "'orange' in basket"
   ]
  },
  {
   "cell_type": "code",
   "execution_count": 5,
   "id": "549395fe",
   "metadata": {},
   "outputs": [
    {
     "data": {
      "text/plain": [
       "{'a', 'b', 'c', 'd', 'r'}"
      ]
     },
     "execution_count": 5,
     "metadata": {},
     "output_type": "execute_result"
    }
   ],
   "source": [
    "a=set('abracadabra')\n",
    "a"
   ]
  },
  {
   "cell_type": "code",
   "execution_count": 6,
   "id": "dd9c4675",
   "metadata": {},
   "outputs": [
    {
     "data": {
      "text/plain": [
       "{'a', 'c', 'l', 'm', 'z'}"
      ]
     },
     "execution_count": 6,
     "metadata": {},
     "output_type": "execute_result"
    }
   ],
   "source": [
    "b=set(\"alacazam\")\n",
    "b"
   ]
  },
  {
   "cell_type": "code",
   "execution_count": 7,
   "id": "85859518",
   "metadata": {},
   "outputs": [
    {
     "data": {
      "text/plain": [
       "{'b', 'd', 'r'}"
      ]
     },
     "execution_count": 7,
     "metadata": {},
     "output_type": "execute_result"
    }
   ],
   "source": [
    "a-b #letter in a but not in b"
   ]
  },
  {
   "cell_type": "code",
   "execution_count": 9,
   "id": "497326d3",
   "metadata": {},
   "outputs": [
    {
     "data": {
      "text/plain": [
       "{'a', 'b', 'c', 'd', 'l', 'm', 'r', 'z'}"
      ]
     },
     "execution_count": 9,
     "metadata": {},
     "output_type": "execute_result"
    }
   ],
   "source": [
    "a|b # letter in a or b both"
   ]
  },
  {
   "cell_type": "code",
   "execution_count": 10,
   "id": "ad3ea6c3",
   "metadata": {},
   "outputs": [
    {
     "data": {
      "text/plain": [
       "{'a', 'c'}"
      ]
     },
     "execution_count": 10,
     "metadata": {},
     "output_type": "execute_result"
    }
   ],
   "source": [
    "a&b # letter in a or b both"
   ]
  },
  {
   "cell_type": "code",
   "execution_count": 11,
   "id": "4b85814e",
   "metadata": {},
   "outputs": [
    {
     "data": {
      "text/plain": [
       "{'b', 'd', 'l', 'm', 'r', 'z'}"
      ]
     },
     "execution_count": 11,
     "metadata": {},
     "output_type": "execute_result"
    }
   ],
   "source": [
    "a^b #letters in a or b but not in both"
   ]
  },
  {
   "cell_type": "code",
   "execution_count": 12,
   "id": "52e52c8a",
   "metadata": {},
   "outputs": [
    {
     "data": {
      "text/plain": [
       "{'d', 'r'}"
      ]
     },
     "execution_count": 12,
     "metadata": {},
     "output_type": "execute_result"
    }
   ],
   "source": [
    "# Set comprehensions\n",
    "{x for x in a if x not in 'abc'}"
   ]
  },
  {
   "cell_type": "markdown",
   "id": "9c600b5a",
   "metadata": {},
   "source": [
    "## Dictionaries"
   ]
  },
  {
   "cell_type": "code",
   "execution_count": null,
   "id": "8478e2be",
   "metadata": {},
   "outputs": [],
   "source": [
    "# Unlike sequences, which are indexed by a range of numbers, dictionaries are indexed by keys, which \n",
    "# can be any immutable type; strings and numbers can always be keys.Tuples can be used as keys if they\n",
    "# contain only strings, numbers, or tuples; if a tuple contains any mutable object either directly or \n",
    "# indirectly, it cannot be used as a key.It is best to think of a dictionary as a set of key: value \n",
    "# pairs, with the requirement that the keys are unique."
   ]
  },
  {
   "cell_type": "code",
   "execution_count": 20,
   "id": "59ec9e1a",
   "metadata": {},
   "outputs": [
    {
     "data": {
      "text/plain": [
       "{'jack': 4098, 'sape': 4139, 'guido': 1427}"
      ]
     },
     "execution_count": 20,
     "metadata": {},
     "output_type": "execute_result"
    }
   ],
   "source": [
    "tel = {'jack': 4098, 'sape': 4139}\n",
    "tel['guido']=1427\n",
    "tel\n",
    "# you can add up a new item in the dictionary by using the above syntax"
   ]
  },
  {
   "cell_type": "code",
   "execution_count": 21,
   "id": "22e56c51",
   "metadata": {},
   "outputs": [
    {
     "data": {
      "text/plain": [
       "4098"
      ]
     },
     "execution_count": 21,
     "metadata": {},
     "output_type": "execute_result"
    }
   ],
   "source": [
    "tel['jack']\n",
    "# dictionaries are indexed by keys so you can access their values using keys"
   ]
  },
  {
   "cell_type": "code",
   "execution_count": 22,
   "id": "0a83fba0",
   "metadata": {},
   "outputs": [
    {
     "data": {
      "text/plain": [
       "{'jack': 4098, 'guido': 1427}"
      ]
     },
     "execution_count": 22,
     "metadata": {},
     "output_type": "execute_result"
    }
   ],
   "source": [
    "del tel['sape']\n",
    "tel\n",
    "# You can delete a key value pair in a dictionary using del"
   ]
  },
  {
   "cell_type": "code",
   "execution_count": 23,
   "id": "43ca516d",
   "metadata": {},
   "outputs": [
    {
     "data": {
      "text/plain": [
       "{'jack': 4098, 'guido': 1427, 'irv': 4127}"
      ]
     },
     "execution_count": 23,
     "metadata": {},
     "output_type": "execute_result"
    }
   ],
   "source": [
    "tel['irv'] = 4127\n",
    "tel"
   ]
  },
  {
   "cell_type": "code",
   "execution_count": 24,
   "id": "34a8adb9",
   "metadata": {},
   "outputs": [
    {
     "data": {
      "text/plain": [
       "['jack', 'guido', 'irv']"
      ]
     },
     "execution_count": 24,
     "metadata": {},
     "output_type": "execute_result"
    }
   ],
   "source": [
    "list(tel)\n",
    "# Performing list() method on a dictionary returns a list of all the keys."
   ]
  },
  {
   "cell_type": "code",
   "execution_count": 25,
   "id": "5e7354ac",
   "metadata": {},
   "outputs": [
    {
     "data": {
      "text/plain": [
       "['guido', 'irv', 'jack']"
      ]
     },
     "execution_count": 25,
     "metadata": {},
     "output_type": "execute_result"
    }
   ],
   "source": [
    "sorted(tel)\n",
    "# if you want it sorted  perform sorted() method."
   ]
  },
  {
   "cell_type": "code",
   "execution_count": 26,
   "id": "695ed5d7",
   "metadata": {},
   "outputs": [
    {
     "data": {
      "text/plain": [
       "True"
      ]
     },
     "execution_count": 26,
     "metadata": {},
     "output_type": "execute_result"
    }
   ],
   "source": [
    "'guido' in tel"
   ]
  },
  {
   "cell_type": "code",
   "execution_count": 27,
   "id": "cc7c6633",
   "metadata": {},
   "outputs": [
    {
     "data": {
      "text/plain": [
       "True"
      ]
     },
     "execution_count": 27,
     "metadata": {},
     "output_type": "execute_result"
    }
   ],
   "source": [
    "'salman' not in tel"
   ]
  },
  {
   "cell_type": "code",
   "execution_count": 28,
   "id": "42b713d5",
   "metadata": {},
   "outputs": [
    {
     "data": {
      "text/plain": [
       "False"
      ]
     },
     "execution_count": 28,
     "metadata": {},
     "output_type": "execute_result"
    }
   ],
   "source": [
    "'jack' not in tel"
   ]
  },
  {
   "cell_type": "code",
   "execution_count": 29,
   "id": "1905b03f",
   "metadata": {},
   "outputs": [
    {
     "data": {
      "text/plain": [
       "{'ali': 591, 'salman': 3059, 'faiz': 3058}"
      ]
     },
     "execution_count": 29,
     "metadata": {},
     "output_type": "execute_result"
    }
   ],
   "source": [
    "dict([('ali',591),('salman',3059),('faiz',3058)])\n",
    "# The dict() constructor builds the dictionary directly from the sequences of key value pairs."
   ]
  },
  {
   "cell_type": "code",
   "execution_count": 30,
   "id": "57ed0462",
   "metadata": {},
   "outputs": [
    {
     "data": {
      "text/plain": [
       "{0: 0, 1: 1, 2: 4, 3: 9, 4: 16}"
      ]
     },
     "execution_count": 30,
     "metadata": {},
     "output_type": "execute_result"
    }
   ],
   "source": [
    "# dict comprehensions can also be used to create dictionaries\n",
    "{x:x**2 for x in range(5)}"
   ]
  },
  {
   "cell_type": "code",
   "execution_count": 31,
   "id": "8f35bd93",
   "metadata": {},
   "outputs": [
    {
     "data": {
      "text/plain": [
       "{'sape': 4139, 'guido': 4127, 'jack': 4098}"
      ]
     },
     "execution_count": 31,
     "metadata": {},
     "output_type": "execute_result"
    }
   ],
   "source": [
    "# When the keys are simple strings, it is sometimes easier to specify pairs using keyword arguments\n",
    "dict(sape=4139, guido=4127, jack=4098)\n"
   ]
  },
  {
   "cell_type": "markdown",
   "id": "1a493cb2",
   "metadata": {},
   "source": [
    "## Looping Techniques"
   ]
  },
  {
   "cell_type": "code",
   "execution_count": 33,
   "id": "73e74314",
   "metadata": {},
   "outputs": [
    {
     "name": "stdout",
     "output_type": "stream",
     "text": [
      "gallahad the pure\n",
      "robin the brave\n"
     ]
    }
   ],
   "source": [
    "# When looping through dictionaries, the key and corresponding value can be retrieved at the same \n",
    "# time using the items() method.\n",
    "knights={'gallahad':'the pure','robin':'the brave'}\n",
    "for i,k in knights.items():\n",
    "    print(i,k)"
   ]
  },
  {
   "cell_type": "code",
   "execution_count": 37,
   "id": "29bfa77d",
   "metadata": {},
   "outputs": [
    {
     "name": "stdout",
     "output_type": "stream",
     "text": [
      "0 tic\n",
      "1 tac\n",
      "2 toe\n"
     ]
    }
   ],
   "source": [
    "# When looping through a sequence, the position index and corresponding value can be retrieved at the \n",
    "# same time using the enumerate() function.\n",
    "for index,value in enumerate(['tic','tac','toe']):\n",
    "    print(index,value)"
   ]
  },
  {
   "cell_type": "code",
   "execution_count": 39,
   "id": "5ecec913",
   "metadata": {},
   "outputs": [
    {
     "name": "stdout",
     "output_type": "stream",
     "text": [
      "what is your  name ? It is  lancelot\n",
      "what is your  quest ? It is  the holy grail\n",
      "what is your  favorite color ? It is  blue\n"
     ]
    }
   ],
   "source": [
    "# To loop over two or more sequences at the same time, the entries can be paired with the zip() function.\n",
    "questions = ['name', 'quest', 'favorite color']\n",
    "answers = ['lancelot', 'the holy grail', 'blue']\n",
    "for q ,a in zip(questions,answers):\n",
    "    print('what is your ',q,'? It is ',a)"
   ]
  },
  {
   "cell_type": "code",
   "execution_count": 42,
   "id": "1aad9d72",
   "metadata": {},
   "outputs": [
    {
     "name": "stdout",
     "output_type": "stream",
     "text": [
      "9\n",
      "7\n",
      "5\n",
      "3\n",
      "1\n"
     ]
    }
   ],
   "source": [
    "# To loop over a sequence in reverse first specify the sequence in forward direction then call the \n",
    "# reversed() function.\n",
    "for i in reversed(range(1,10,2)):\n",
    "    print(i)"
   ]
  },
  {
   "cell_type": "code",
   "execution_count": 43,
   "id": "06a5b029",
   "metadata": {},
   "outputs": [
    {
     "name": "stdout",
     "output_type": "stream",
     "text": [
      "apple\n",
      "apple\n",
      "banana\n",
      "orange\n",
      "orange\n",
      "pear\n"
     ]
    }
   ],
   "source": [
    "# To loop over a sequence in sorted order, use the sorted() function which returns a new sorted list \n",
    "# while leaving the source unaltered.\n",
    "basket = ['apple', 'orange', 'apple', 'pear', 'orange', 'banana']\n",
    "for i in sorted(basket):\n",
    "    print(i)"
   ]
  },
  {
   "cell_type": "code",
   "execution_count": 45,
   "id": "674f74a3",
   "metadata": {},
   "outputs": [
    {
     "data": {
      "text/plain": [
       "[56.2, 51.7, 55.3, 52.5, 47.8]"
      ]
     },
     "execution_count": 45,
     "metadata": {},
     "output_type": "execute_result"
    }
   ],
   "source": [
    "# It is sometimes tempting to change a list while you are looping over it; however, it is often simpler\n",
    "# and safer to create a new list instead.\n",
    "import math\n",
    "raw_data = [56.2, float('NaN'), 51.7, 55.3, 52.5, float('NaN'), 47.8]\n",
    "filtered_data = []\n",
    "for value in raw_data:\n",
    "    if not math.isnan(value):\n",
    "        filtered_data.append(value)\n",
    "filtered_data"
   ]
  },
  {
   "cell_type": "markdown",
   "id": "a19012f9",
   "metadata": {},
   "source": [
    "## Compairing sequence and other types"
   ]
  },
  {
   "cell_type": "code",
   "execution_count": null,
   "id": "ef1b83d5",
   "metadata": {},
   "outputs": [],
   "source": [
    "# Sequence objects typically may be compared to other objects with the same sequence type. The \n",
    "# comparison uses lexicographical ordering: first the first two items are compared, and if they differ\n",
    "# this determines the outcome of the comparison; if they are equal, the next two items are compared\n",
    "# , and so on, until either sequence is exhausted. If two items to be compared are themselves \n",
    "# sequences of the same type, the lexicographical comparison is carried out recursively."
   ]
  },
  {
   "cell_type": "code",
   "execution_count": 46,
   "id": "0047a022",
   "metadata": {},
   "outputs": [
    {
     "data": {
      "text/plain": [
       "True"
      ]
     },
     "execution_count": 46,
     "metadata": {},
     "output_type": "execute_result"
    }
   ],
   "source": [
    "(1, 2, 3)< (1, 2, 4)"
   ]
  },
  {
   "cell_type": "code",
   "execution_count": 48,
   "id": "40bffe36",
   "metadata": {},
   "outputs": [
    {
     "data": {
      "text/plain": [
       "True"
      ]
     },
     "execution_count": 48,
     "metadata": {},
     "output_type": "execute_result"
    }
   ],
   "source": [
    "[1, 2, 3] < [2, 0, 0]"
   ]
  },
  {
   "cell_type": "code",
   "execution_count": 49,
   "id": "7416229c",
   "metadata": {},
   "outputs": [
    {
     "data": {
      "text/plain": [
       "True"
      ]
     },
     "execution_count": 49,
     "metadata": {},
     "output_type": "execute_result"
    }
   ],
   "source": [
    "'ABC' < 'C' < 'Pascal' < 'Python'"
   ]
  },
  {
   "cell_type": "code",
   "execution_count": 50,
   "id": "615c23d2",
   "metadata": {},
   "outputs": [
    {
     "data": {
      "text/plain": [
       "True"
      ]
     },
     "execution_count": 50,
     "metadata": {},
     "output_type": "execute_result"
    }
   ],
   "source": [
    "(1, 2, 3, 4)  < (1, 2, 4)"
   ]
  },
  {
   "cell_type": "code",
   "execution_count": 51,
   "id": "117ede69",
   "metadata": {},
   "outputs": [
    {
     "data": {
      "text/plain": [
       "True"
      ]
     },
     "execution_count": 51,
     "metadata": {},
     "output_type": "execute_result"
    }
   ],
   "source": [
    "(1, 2) < (1, 2, -1)"
   ]
  },
  {
   "cell_type": "code",
   "execution_count": 52,
   "id": "7a3bbb85",
   "metadata": {},
   "outputs": [
    {
     "data": {
      "text/plain": [
       "True"
      ]
     },
     "execution_count": 52,
     "metadata": {},
     "output_type": "execute_result"
    }
   ],
   "source": [
    "(1, 2, 3) == (1.0, 2.0, 3.0)"
   ]
  },
  {
   "cell_type": "code",
   "execution_count": 53,
   "id": "b3912159",
   "metadata": {},
   "outputs": [
    {
     "data": {
      "text/plain": [
       "True"
      ]
     },
     "execution_count": 53,
     "metadata": {},
     "output_type": "execute_result"
    }
   ],
   "source": [
    "(1, 2, ('aa', 'ab')) < (1, 2, ('abc', 'a'), 4)"
   ]
  },
  {
   "cell_type": "code",
   "execution_count": null,
   "id": "b6d6969d",
   "metadata": {},
   "outputs": [],
   "source": []
  }
 ],
 "metadata": {
  "kernelspec": {
   "display_name": "Python 3 (ipykernel)",
   "language": "python",
   "name": "python3"
  },
  "language_info": {
   "codemirror_mode": {
    "name": "ipython",
    "version": 3
   },
   "file_extension": ".py",
   "mimetype": "text/x-python",
   "name": "python",
   "nbconvert_exporter": "python",
   "pygments_lexer": "ipython3",
   "version": "3.10.5"
  }
 },
 "nbformat": 4,
 "nbformat_minor": 5
}
