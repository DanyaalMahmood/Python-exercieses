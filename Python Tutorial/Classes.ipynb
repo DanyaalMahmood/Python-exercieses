{
 "cells": [
  {
   "cell_type": "markdown",
   "id": "65e08726",
   "metadata": {},
   "source": [
    "## Scopes and Namespaces "
   ]
  },
  {
   "cell_type": "code",
   "execution_count": null,
   "id": "66a64321",
   "metadata": {},
   "outputs": [],
   "source": []
  },
  {
   "cell_type": "markdown",
   "id": "bc4add4a",
   "metadata": {},
   "source": [
    "## Class Objects"
   ]
  },
  {
   "cell_type": "code",
   "execution_count": 16,
   "id": "225d8086",
   "metadata": {},
   "outputs": [
    {
     "data": {
      "text/plain": [
       "12345"
      ]
     },
     "execution_count": 16,
     "metadata": {},
     "output_type": "execute_result"
    }
   ],
   "source": [
    "class MyClass:\n",
    "    \"\"\"A simple example class\"\"\"\n",
    "    i = 12345\n",
    "\n",
    "    def f(self):\n",
    "        return 'hello world'\n",
    "MyClass.i\n",
    "# returning an integer"
   ]
  },
  {
   "cell_type": "code",
   "execution_count": 17,
   "id": "bf6099b3",
   "metadata": {},
   "outputs": [
    {
     "data": {
      "text/plain": [
       "<function __main__.MyClass.f(self)>"
      ]
     },
     "execution_count": 17,
     "metadata": {},
     "output_type": "execute_result"
    }
   ],
   "source": [
    "MyClass.f\n",
    "# returning a class object"
   ]
  },
  {
   "cell_type": "code",
   "execution_count": 3,
   "id": "9b4fed61",
   "metadata": {},
   "outputs": [
    {
     "data": {
      "text/plain": [
       "'A simple example class'"
      ]
     },
     "execution_count": 3,
     "metadata": {},
     "output_type": "execute_result"
    }
   ],
   "source": [
    "MyClass.__doc__\n",
    "# returning a docstring"
   ]
  },
  {
   "cell_type": "code",
   "execution_count": 5,
   "id": "6ebae89e",
   "metadata": {},
   "outputs": [
    {
     "name": "stdout",
     "output_type": "stream",
     "text": [
      "Real part 3.0 Imaginary part -4.5\n"
     ]
    }
   ],
   "source": [
    "# when a class is instantiated the __init__ method automatically invokes\n",
    "class Complex:\n",
    "    def __init__(self,realpart,imagpart):\n",
    "        self.r=realpart\n",
    "        self.i=imagpart\n",
    "x=Complex(3.0,-4.5)\n",
    "print('Real part',x.r,'Imaginary part',x.i)  \n",
    "    "
   ]
  },
  {
   "cell_type": "markdown",
   "id": "7c4b0a3c",
   "metadata": {},
   "source": [
    "## Class and instance variable"
   ]
  },
  {
   "cell_type": "code",
   "execution_count": 18,
   "id": "e544f500",
   "metadata": {},
   "outputs": [
    {
     "data": {
      "text/plain": [
       "'laika'"
      ]
     },
     "execution_count": 18,
     "metadata": {},
     "output_type": "execute_result"
    }
   ],
   "source": [
    "# class varibales are shared by all instances\n",
    "# instance variables are unique to each instance\n",
    "\n",
    "class dog:\n",
    "    kind='labra' # class varibale\n",
    "    def __init__(self,name):\n",
    "        self.name=name # instance variable unique to each instance\n",
    "\n",
    "l=dog('laika')\n",
    "b=dog('bill')\n",
    "l.name"
   ]
  },
  {
   "cell_type": "code",
   "execution_count": 19,
   "id": "299b2fbf",
   "metadata": {},
   "outputs": [
    {
     "data": {
      "text/plain": [
       "'bill'"
      ]
     },
     "execution_count": 19,
     "metadata": {},
     "output_type": "execute_result"
    }
   ],
   "source": [
    "b.name"
   ]
  },
  {
   "cell_type": "code",
   "execution_count": 20,
   "id": "5cbdcfd8",
   "metadata": {},
   "outputs": [
    {
     "data": {
      "text/plain": [
       "'labra'"
      ]
     },
     "execution_count": 20,
     "metadata": {},
     "output_type": "execute_result"
    }
   ],
   "source": [
    "l.kind"
   ]
  },
  {
   "cell_type": "code",
   "execution_count": 21,
   "id": "b8331939",
   "metadata": {},
   "outputs": [
    {
     "data": {
      "text/plain": [
       "'labra'"
      ]
     },
     "execution_count": 21,
     "metadata": {},
     "output_type": "execute_result"
    }
   ],
   "source": [
    "b.kind"
   ]
  },
  {
   "cell_type": "code",
   "execution_count": 29,
   "id": "5f2b53c0",
   "metadata": {},
   "outputs": [
    {
     "data": {
      "text/plain": [
       "['roll over', 'play dead']"
      ]
     },
     "execution_count": 29,
     "metadata": {},
     "output_type": "execute_result"
    }
   ],
   "source": [
    "## mutable objects can not be used as class variables\n",
    "class Dog:\n",
    "    tricks=[]\n",
    "    def __init__(self,name):\n",
    "        self.name=name\n",
    "    def add_trick(self,trick):\n",
    "        self.tricks.append(trick)\n",
    "\n",
    "d = Dog('Fido')\n",
    "e = Dog('Buddy')\n",
    "d.add_trick('roll over')\n",
    "e.add_trick('play dead')\n",
    "d.tricks                # unexpectedly shared by all dogs\n",
    "['roll over', 'play dead']"
   ]
  },
  {
   "cell_type": "code",
   "execution_count": 42,
   "id": "d022f7c2",
   "metadata": {},
   "outputs": [],
   "source": [
    "class dog:\n",
    "    def __init__(self,name):\n",
    "        self.name=name\n",
    "        self.trickss = []\n",
    "    def add_trick(self,trick):\n",
    "        self.trickss.append(trick)\n",
    "dee = dog('Fido')\n",
    "ee = dog('Buddy')\n",
    "dee.add_trick('roll over')\n",
    "ee.add_trick('play dead')  "
   ]
  },
  {
   "cell_type": "code",
   "execution_count": 43,
   "id": "679d4450",
   "metadata": {},
   "outputs": [
    {
     "data": {
      "text/plain": [
       "['roll over']"
      ]
     },
     "execution_count": 43,
     "metadata": {},
     "output_type": "execute_result"
    }
   ],
   "source": [
    "dee.trickss"
   ]
  },
  {
   "cell_type": "code",
   "execution_count": 44,
   "id": "662bb81a",
   "metadata": {},
   "outputs": [
    {
     "data": {
      "text/plain": [
       "['play dead']"
      ]
     },
     "execution_count": 44,
     "metadata": {},
     "output_type": "execute_result"
    }
   ],
   "source": [
    "ee.trickss"
   ]
  },
  {
   "cell_type": "code",
   "execution_count": null,
   "id": "5316d7d5",
   "metadata": {},
   "outputs": [],
   "source": []
  }
 ],
 "metadata": {
  "kernelspec": {
   "display_name": "Python 3 (ipykernel)",
   "language": "python",
   "name": "python3"
  },
  "language_info": {
   "codemirror_mode": {
    "name": "ipython",
    "version": 3
   },
   "file_extension": ".py",
   "mimetype": "text/x-python",
   "name": "python",
   "nbconvert_exporter": "python",
   "pygments_lexer": "ipython3",
   "version": "3.10.5"
  }
 },
 "nbformat": 4,
 "nbformat_minor": 5
}
