{
 "cells": [
  {
   "cell_type": "markdown",
   "id": "0bf488d2",
   "metadata": {},
   "source": [
    "## Fancier Output formatting"
   ]
  },
  {
   "cell_type": "code",
   "execution_count": 4,
   "id": "7ef6002b",
   "metadata": {},
   "outputs": [
    {
     "data": {
      "text/plain": [
       "'Results of 2016 Referendum'"
      ]
     },
     "execution_count": 4,
     "metadata": {},
     "output_type": "execute_result"
    }
   ],
   "source": [
    "# The f method\n",
    "year = 2016\n",
    "event = 'Referendum'\n",
    "f'Results of {year} {event}'"
   ]
  },
  {
   "cell_type": "code",
   "execution_count": 14,
   "id": "030fc5de",
   "metadata": {},
   "outputs": [
    {
     "data": {
      "text/plain": [
       "' 42572654 Yes votes 49.67%'"
      ]
     },
     "execution_count": 14,
     "metadata": {},
     "output_type": "execute_result"
    }
   ],
   "source": [
    "# str.format() method\n",
    "yes_votes = 42_572_654\n",
    "no_votes = 43_132_495\n",
    "percentage = yes_votes / (yes_votes + no_votes)\n",
    "'{:9} Yes votes {:2.2%}'.format(yes_votes,percentage)\n",
    "# The {:9} specifies that the field with is 9 characters and it is right aligned {:2.2%} specifies that\n",
    "# the value should be displayed as percentage with 2 decimal places."
   ]
  },
  {
   "cell_type": "code",
   "execution_count": 15,
   "id": "b4db9540",
   "metadata": {},
   "outputs": [
    {
     "data": {
      "text/plain": [
       "'Hello, world.'"
      ]
     },
     "execution_count": 15,
     "metadata": {},
     "output_type": "execute_result"
    }
   ],
   "source": [
    "# When you don’t need fancy output but just want a quick display of some variables for debugging \n",
    "# purposes, you can convert any value to a string with the repr() or str() functions\n",
    "# The str() method produces an output which is user friendly\n",
    "#  repr() method is meant to generate representation which  can be read by the interpreter\n",
    "\n",
    "s = 'Hello, world.'\n",
    "str(s)"
   ]
  },
  {
   "cell_type": "code",
   "execution_count": 16,
   "id": "706425f5",
   "metadata": {},
   "outputs": [
    {
     "data": {
      "text/plain": [
       "\"'Hello, world.'\""
      ]
     },
     "execution_count": 16,
     "metadata": {},
     "output_type": "execute_result"
    }
   ],
   "source": [
    "repr(s)"
   ]
  },
  {
   "cell_type": "code",
   "execution_count": 17,
   "id": "d13e6f7f",
   "metadata": {},
   "outputs": [
    {
     "data": {
      "text/plain": [
       "'0.14285714285714285'"
      ]
     },
     "execution_count": 17,
     "metadata": {},
     "output_type": "execute_result"
    }
   ],
   "source": [
    "str(1/7)"
   ]
  },
  {
   "cell_type": "code",
   "execution_count": 18,
   "id": "57e7280f",
   "metadata": {},
   "outputs": [
    {
     "name": "stdout",
     "output_type": "stream",
     "text": [
      "The value of x is 32.5, and y is 40000...\n"
     ]
    }
   ],
   "source": [
    "x = 10 * 3.25\n",
    "y = 200 * 200\n",
    "s='The value of x is '+ repr(x)+', and y is '+ repr(y)+'...'\n",
    "print(s)"
   ]
  },
  {
   "cell_type": "code",
   "execution_count": 19,
   "id": "98bd067b",
   "metadata": {},
   "outputs": [
    {
     "name": "stdout",
     "output_type": "stream",
     "text": [
      "'hello, world\\n'\n"
     ]
    }
   ],
   "source": [
    "# The repr() of a string adds string quotes and backslashes:\n",
    "hello = 'hello, world\\n'\n",
    "hellos = repr(hello)\n",
    "print(hellos)"
   ]
  },
  {
   "cell_type": "code",
   "execution_count": 21,
   "id": "9da8f316",
   "metadata": {},
   "outputs": [
    {
     "data": {
      "text/plain": [
       "'hello, world\\n'"
      ]
     },
     "execution_count": 21,
     "metadata": {},
     "output_type": "execute_result"
    }
   ],
   "source": [
    "str(hello)\n",
    "# For objects which don’t have a particular representation for human consumption, str() will return \n",
    "# the same value as repr()."
   ]
  },
  {
   "cell_type": "code",
   "execution_count": 22,
   "id": "ab2fccf5",
   "metadata": {},
   "outputs": [
    {
     "data": {
      "text/plain": [
       "\"(32.5, 40000, ('spam', 'eggs'))\""
      ]
     },
     "execution_count": 22,
     "metadata": {},
     "output_type": "execute_result"
    }
   ],
   "source": [
    "# The argument to repr() may be any Python object:\n",
    "repr((x, y, ('spam', 'eggs')))"
   ]
  },
  {
   "cell_type": "code",
   "execution_count": 30,
   "id": "5f4b9b91",
   "metadata": {},
   "outputs": [
    {
     "name": "stdout",
     "output_type": "stream",
     "text": [
      "Sjoerd     ==>       4127\n",
      "Jack       ==>       4098\n",
      "Dcab       ==>       7678\n"
     ]
    }
   ],
   "source": [
    "table = {'Sjoerd': 4127, 'Jack': 4098, 'Dcab': 7678}\n",
    "for name, phone in table.items():\n",
    "    print(f'{name:10} ==> {phone:10}')\n",
    "# Passing an integer after the ':' will cause that field to be a minimum number of characters wide. \n",
    "# This is useful for making columns line up."
   ]
  },
  {
   "cell_type": "code",
   "execution_count": 32,
   "id": "a7d5a47f",
   "metadata": {},
   "outputs": [
    {
     "name": "stdout",
     "output_type": "stream",
     "text": [
      "My hovercraft is full of cows.\n"
     ]
    }
   ],
   "source": [
    "# There are other modifiers which can be used to convert the values before it is formatted\n",
    "# !a' applies ascii(), '!s' applies str(), and '!r' applies repr():\n",
    "animals = 'cows'\n",
    "print(f'My hovercraft is full of {animals}.')"
   ]
  },
  {
   "cell_type": "code",
   "execution_count": 33,
   "id": "eb456530",
   "metadata": {},
   "outputs": [
    {
     "name": "stdout",
     "output_type": "stream",
     "text": [
      "My hovercraft is full of 'cows'.\n"
     ]
    }
   ],
   "source": [
    "print(f'My hovercraft is full of {animals!r}.')"
   ]
  },
  {
   "cell_type": "code",
   "execution_count": 35,
   "id": "8106e4e9",
   "metadata": {},
   "outputs": [
    {
     "name": "stdout",
     "output_type": "stream",
     "text": [
      "debugging bugs='roaches' count=13 area='living room'\n"
     ]
    }
   ],
   "source": [
    "bugs = 'roaches'\n",
    "count = 13\n",
    "area = 'living room'\n",
    "print(f'debugging {bugs=} {count=} {area=}')\n",
    "# using = will also print the value of the variables"
   ]
  },
  {
   "cell_type": "code",
   "execution_count": 36,
   "id": "2207b2e9",
   "metadata": {},
   "outputs": [
    {
     "name": "stdout",
     "output_type": "stream",
     "text": [
      "We are the knights who say \"Ni!\"\n"
     ]
    }
   ],
   "source": [
    "print('We are the {} who say \"{}!\"'.format('knights', 'Ni'))"
   ]
  },
  {
   "cell_type": "code",
   "execution_count": 38,
   "id": "3b1c3d77",
   "metadata": {},
   "outputs": [
    {
     "name": "stdout",
     "output_type": "stream",
     "text": [
      "spam and eggs\n"
     ]
    }
   ],
   "source": [
    "print('{0} and {1}'.format('spam', 'eggs'))\n",
    "# 0 and 1 are the indices of the words written in the format() method"
   ]
  },
  {
   "cell_type": "code",
   "execution_count": 39,
   "id": "f27c9b1b",
   "metadata": {},
   "outputs": [
    {
     "name": "stdout",
     "output_type": "stream",
     "text": [
      "eggs and spam\n"
     ]
    }
   ],
   "source": [
    "print('{1} and {0}'.format('spam', 'eggs'))"
   ]
  },
  {
   "cell_type": "code",
   "execution_count": 40,
   "id": "b1a5bcab",
   "metadata": {},
   "outputs": [
    {
     "name": "stdout",
     "output_type": "stream",
     "text": [
      "This spam is absolutely horrible.\n"
     ]
    }
   ],
   "source": [
    "# If keyword arguments are used in the str.format() method, their values are referred to by using \n",
    "# the name of the argument.\n",
    "print('This {food} is {adjective}.'.format(\n",
    "      food='spam', adjective='absolutely horrible'))\n"
   ]
  },
  {
   "cell_type": "code",
   "execution_count": 41,
   "id": "0c48ba7e",
   "metadata": {},
   "outputs": [
    {
     "name": "stdout",
     "output_type": "stream",
     "text": [
      "The story of Bill, Manfred, and Georg.\n"
     ]
    }
   ],
   "source": [
    "# Positional and keyword combined\n",
    "print('The story of {0}, {1}, and {other}.'.format('Bill', 'Manfred',other='Georg'))"
   ]
  },
  {
   "cell_type": "code",
   "execution_count": 43,
   "id": "217c36f3",
   "metadata": {},
   "outputs": [
    {
     "name": "stdout",
     "output_type": "stream",
     "text": [
      "Salman: 4127; Ahmad: 4098; Khan: 8637678\n"
     ]
    }
   ],
   "source": [
    "# if you want to pass the dictionary to the format method \n",
    "table = {'Salman': 4127, 'Ahmad': 4098, 'Khan': 8637678}\n",
    "print('Salman: {Salman:d}; Ahmad: {Ahmad:d}; Khan: {Khan:d}'.format(**table))"
   ]
  },
  {
   "cell_type": "code",
   "execution_count": 46,
   "id": "8a7bde19",
   "metadata": {},
   "outputs": [
    {
     "name": "stdout",
     "output_type": "stream",
     "text": [
      "1 1 1\n",
      "2 4 8\n",
      "3 9 27\n",
      "4 16 64\n",
      "5 25 125\n",
      "6 36 216\n",
      "7 49 343\n",
      "8 64 512\n",
      "9 81 729\n"
     ]
    }
   ],
   "source": [
    "for x in range(1,10):\n",
    "    print('{0:d} {1:d} {2:d}' .format(x,x*x,x*x*x))\n",
    "# Here the d represents that the output numbers are integers"
   ]
  },
  {
   "cell_type": "markdown",
   "id": "74fc13f2",
   "metadata": {},
   "source": [
    "## Reading and writing files"
   ]
  },
  {
   "cell_type": "code",
   "execution_count": 58,
   "id": "56afd921",
   "metadata": {},
   "outputs": [],
   "source": [
    "f=open('file_handling_prac.txt','r',encoding='utf-8')\n",
    "f.read()\n",
    "# The first argument is the file name the second argument is the mode in which way you want to use\n",
    "# the file,'r' when the file will only be read, 'w' for only writing (an existing file with the same \n",
    "# name will be erased), and 'a' opens the file for appending; any data written to the file is \n",
    "# automatically added to the end. 'r+' opens the file for both reading and writing.If the encoding\n",
    "# parmeter is not specified the defalut will be 'utf-8'.when the mode is 'b' it will open the file \n",
    "# in binary mode and you can not specify the encoding when the file opening the file in binary mood\n",
    "f.close()"
   ]
  },
  {
   "cell_type": "markdown",
   "id": "bff1c305",
   "metadata": {},
   "source": [
    " ## with method"
   ]
  },
  {
   "cell_type": "code",
   "execution_count": 60,
   "id": "9b3bd6c9",
   "metadata": {},
   "outputs": [
    {
     "data": {
      "text/plain": [
       "'This file was created to practice file handling.'"
      ]
     },
     "execution_count": 60,
     "metadata": {},
     "output_type": "execute_result"
    }
   ],
   "source": [
    "with open('file_handling_prac.txt', encoding=\"utf-8\") as f:\n",
    "    read_data = f.read()\n",
    "\n",
    "# The with method is a good practice to do and it's advantage is that the width method automatically \n",
    "# close the file when it's suit is finished"
   ]
  },
  {
   "cell_type": "code",
   "execution_count": 63,
   "id": "826b9203",
   "metadata": {},
   "outputs": [
    {
     "data": {
      "text/plain": [
       "True"
      ]
     },
     "execution_count": 63,
     "metadata": {},
     "output_type": "execute_result"
    }
   ],
   "source": [
    "f.closed"
   ]
  },
  {
   "cell_type": "markdown",
   "id": "0246aa23",
   "metadata": {},
   "source": [
    "## Methods of file objects"
   ]
  },
  {
   "cell_type": "code",
   "execution_count": 116,
   "id": "93195004",
   "metadata": {},
   "outputs": [],
   "source": [
    "f=open('file_handling_prac.txt','r+',encoding='utf-8')\n"
   ]
  },
  {
   "cell_type": "code",
   "execution_count": 117,
   "id": "adad2241",
   "metadata": {},
   "outputs": [
    {
     "data": {
      "text/plain": [
       "'It is the first line of the file\\nIt is the second line of the file.\\nIt is the third line of the file.\\nIt is the fourth line of the file \\n\\n It is the fourth line of the file \\n'"
      ]
     },
     "execution_count": 117,
     "metadata": {},
     "output_type": "execute_result"
    }
   ],
   "source": [
    "f.read()\n",
    "# The f.read() method reads the entire file"
   ]
  },
  {
   "cell_type": "code",
   "execution_count": 118,
   "id": "ffef4c61",
   "metadata": {},
   "outputs": [
    {
     "data": {
      "text/plain": [
       "''"
      ]
     },
     "execution_count": 118,
     "metadata": {},
     "output_type": "execute_result"
    }
   ],
   "source": [
    "f.read()\n",
    "# If the cursor reaches the end of the file and  then f.read() method will return an empty string"
   ]
  },
  {
   "cell_type": "code",
   "execution_count": 108,
   "id": "8ff48ccc",
   "metadata": {},
   "outputs": [
    {
     "data": {
      "text/plain": [
       "'It is the first line of the file\\n'"
      ]
     },
     "execution_count": 108,
     "metadata": {},
     "output_type": "execute_result"
    }
   ],
   "source": [
    "f.readline()"
   ]
  },
  {
   "cell_type": "code",
   "execution_count": 109,
   "id": "d196c081",
   "metadata": {},
   "outputs": [
    {
     "data": {
      "text/plain": [
       "'It is the second line of the file.\\n'"
      ]
     },
     "execution_count": 109,
     "metadata": {},
     "output_type": "execute_result"
    }
   ],
   "source": [
    "f.readline()"
   ]
  },
  {
   "cell_type": "code",
   "execution_count": 110,
   "id": "8f1ffdb5",
   "metadata": {},
   "outputs": [
    {
     "data": {
      "text/plain": [
       "'It is the third line of the file.\\n'"
      ]
     },
     "execution_count": 110,
     "metadata": {},
     "output_type": "execute_result"
    }
   ],
   "source": [
    "f.readline()"
   ]
  },
  {
   "cell_type": "code",
   "execution_count": 111,
   "id": "ef02c2f3",
   "metadata": {},
   "outputs": [
    {
     "data": {
      "text/plain": [
       "'It is the fourth line of the file \\n'"
      ]
     },
     "execution_count": 111,
     "metadata": {},
     "output_type": "execute_result"
    }
   ],
   "source": [
    "f.readline()"
   ]
  },
  {
   "cell_type": "code",
   "execution_count": 112,
   "id": "5a60648d",
   "metadata": {},
   "outputs": [
    {
     "data": {
      "text/plain": [
       "37"
      ]
     },
     "execution_count": 112,
     "metadata": {},
     "output_type": "execute_result"
    }
   ],
   "source": [
    "f.write('\\n It is the fourth line of the file \\n')\n",
    "# f.write(string) writes the contents of string to the file, returning the number of characters \n",
    "# written."
   ]
  },
  {
   "cell_type": "code",
   "execution_count": 114,
   "id": "364913b7",
   "metadata": {},
   "outputs": [
    {
     "data": {
      "text/plain": [
       "['It is the first line of the file\\n',\n",
       " 'It is the second line of the file.\\n',\n",
       " 'It is the third line of the file.\\n',\n",
       " 'It is the fourth line of the file \\n',\n",
       " '\\n',\n",
       " ' It is the fourth line of the file \\n']"
      ]
     },
     "execution_count": 114,
     "metadata": {},
     "output_type": "execute_result"
    }
   ],
   "source": [
    "# To read all lines\n",
    "f.readlines()"
   ]
  },
  {
   "cell_type": "code",
   "execution_count": 119,
   "id": "7eb40c32",
   "metadata": {},
   "outputs": [],
   "source": [
    "# While writing other type objects they must be converted to string"
   ]
  },
  {
   "cell_type": "code",
   "execution_count": null,
   "id": "36b9d847",
   "metadata": {},
   "outputs": [],
   "source": []
  }
 ],
 "metadata": {
  "kernelspec": {
   "display_name": "Python 3 (ipykernel)",
   "language": "python",
   "name": "python3"
  },
  "language_info": {
   "codemirror_mode": {
    "name": "ipython",
    "version": 3
   },
   "file_extension": ".py",
   "mimetype": "text/x-python",
   "name": "python",
   "nbconvert_exporter": "python",
   "pygments_lexer": "ipython3",
   "version": "3.10.5"
  }
 },
 "nbformat": 4,
 "nbformat_minor": 5
}
